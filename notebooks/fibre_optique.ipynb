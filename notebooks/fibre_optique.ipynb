{
 "cells": [
  {
   "cell_type": "code",
   "execution_count": 18,
   "metadata": {},
   "outputs": [],
   "source": [
    "import numpy as np\n",
    "import matplotlib.pyplot as plt\n",
    "import scienceplots\n",
    "import astropy.units as u\n",
    "import sys \n",
    "import os\n",
    "sys.path.append(\"../src\")\n",
    "from regression import FrequentistRegression\n",
    "# from scipy.optimize import curve_fit\n",
    "params = {\n",
    "         'axes.labelsize': 25,\n",
    "         'axes.titlesize': 25,\n",
    "         'ytick.labelsize' :25,\n",
    "         'xtick.labelsize' :25,\n",
    "         'legend.fontsize': 20,\n",
    "         'xtick.major.size': 5,\n",
    "         'xtick.minor.size': 4,\n",
    "         'xtick.major.width': 3,\n",
    "         'xtick.minor.width': 2,\n",
    "         'ytick.major.size': 5,\n",
    "         'ytick.minor.size': 4,\n",
    "         'ytick.major.width': 3,\n",
    "         'ytick.minor.width': 2,\n",
    "         'ytick.color': \"k\",\n",
    "         'xtick.color': \"k\",\n",
    "         'axes.labelcolor': \"k\",\n",
    "         'ytick.labelcolor' : \"k\",\n",
    "         'xtick.labelcolor' : \"k\",\n",
    "         'font.size': 20\n",
    "         }\n",
    "plt.rcParams.update(params)\n",
    "plt.style.use('science')\n",
    "\n",
    "# Folder directory for the figures of this notebook\n",
    "figure_folder = r'C:/Users/Admin/Desktop/lab_optique/data/fibre_optique/'"
   ]
  },
  {
   "cell_type": "markdown",
   "metadata": {},
   "source": [
    "## Semaine 1:\n",
    "Objectifs de la semaine; \n",
    "- Caractérisation de la fibre multimode (ouverture numérique, V, nombre de modes)\n",
    "- Caractérisation des deux fibres monomodes (ouverture numérique, V, nombre de modes).\n",
    "\n",
    "On commence par la fibre multimode\n",
    "### Fibre multimode\n",
    "Notre premier objectif est de faire une régression linéaire pour les valeurs distance vs diamètre pour le patron vu sur l'écran. "
   ]
  },
  {
   "cell_type": "code",
   "execution_count": 36,
   "metadata": {},
   "outputs": [],
   "source": [
    "# Importing the data\n",
    "fname = figure_folder + r\"multimode_mesures.txt\"\n",
    "data = np.loadtxt(fname, skiprows=1)\n",
    "diameter, distance = data[:, 0], data[:, 1] # cm\n",
    "sigma_diameter, sigma_distance = 1e-1, 1e-1 # cm la demi-mesure la plus petite de la règle"
   ]
  },
  {
   "cell_type": "code",
   "execution_count": 40,
   "metadata": {},
   "outputs": [
    {
     "ename": "TypeError",
     "evalue": "unsupported operand type(s) for ** or pow(): 'ellipsis' and 'int'",
     "output_type": "error",
     "traceback": [
      "\u001b[1;31m---------------------------------------------------------------------------\u001b[0m",
      "\u001b[1;31mTypeError\u001b[0m                                 Traceback (most recent call last)",
      "Cell \u001b[1;32mIn[40], line 7\u001b[0m\n\u001b[0;32m      1\u001b[0m Regression_multimode \u001b[38;5;241m=\u001b[39m FrequentistRegression(\n\u001b[0;32m      2\u001b[0m     degree \u001b[38;5;241m=\u001b[39m \u001b[38;5;241m1\u001b[39m,\n\u001b[0;32m      3\u001b[0m     sigma_noise \u001b[38;5;241m=\u001b[39m sigma_diameter\n\u001b[0;32m      4\u001b[0m )\n\u001b[1;32m----> 7\u001b[0m params_fitted, std_fitted \u001b[38;5;241m=\u001b[39m \u001b[43mRegression_multimode\u001b[49m\u001b[38;5;241;43m.\u001b[39;49m\u001b[43mfit\u001b[49m\u001b[43m(\u001b[49m\n\u001b[0;32m      8\u001b[0m \u001b[43m    \u001b[49m\u001b[43mobs\u001b[49m\u001b[43m \u001b[49m\u001b[38;5;241;43m=\u001b[39;49m\u001b[43m \u001b[49m\u001b[38;5;241;43m.\u001b[39;49m\u001b[38;5;241;43m.\u001b[39;49m\u001b[38;5;241;43m.\u001b[39;49m\u001b[43m,\u001b[49m\u001b[43m \u001b[49m\n\u001b[0;32m      9\u001b[0m \u001b[43m    \u001b[49m\u001b[43mx\u001b[49m\u001b[43m \u001b[49m\u001b[38;5;241;43m=\u001b[39;49m\u001b[43m \u001b[49m\u001b[38;5;241;43m.\u001b[39;49m\u001b[38;5;241;43m.\u001b[39;49m\u001b[38;5;241;43m.\u001b[39;49m\u001b[43m,\u001b[49m\n\u001b[0;32m     10\u001b[0m \u001b[43m    \u001b[49m\u001b[43mridge_reg\u001b[49m\u001b[43m \u001b[49m\u001b[38;5;241;43m=\u001b[39;49m\u001b[43m \u001b[49m\u001b[38;5;241;43m1e-12\u001b[39;49m\u001b[43m,\u001b[49m\n\u001b[0;32m     11\u001b[0m \u001b[43m    \u001b[49m\u001b[43mfit_intercept\u001b[49m\u001b[43m \u001b[49m\u001b[38;5;241;43m=\u001b[39;49m\u001b[43m \u001b[49m\u001b[38;5;241;43m.\u001b[39;49m\u001b[38;5;241;43m.\u001b[39;49m\u001b[38;5;241;43m.\u001b[39;49m\n\u001b[0;32m     12\u001b[0m \u001b[43m)\u001b[49m\n\u001b[0;32m     14\u001b[0m cov \u001b[38;5;241m=\u001b[39m Regression_multimode\u001b[38;5;241m.\u001b[39mcov()\n\u001b[0;32m     15\u001b[0m chi2 \u001b[38;5;241m=\u001b[39m Regression_multimode\u001b[38;5;241m.\u001b[39mcompute_chi2(obs \u001b[38;5;241m=\u001b[39m \u001b[38;5;241m.\u001b[39m\u001b[38;5;241m.\u001b[39m\u001b[38;5;241m.\u001b[39m)\n",
      "File \u001b[1;32mc:\\Users\\Admin\\Desktop\\lab_optique\\code\\phy3040\\notebooks\\../src\\regression.py:34\u001b[0m, in \u001b[0;36mFrequentistRegression.fit\u001b[1;34m(self, obs, x, ridge_reg, fit_intercept)\u001b[0m\n\u001b[0;32m     32\u001b[0m \u001b[38;5;28;01mdef\u001b[39;00m \u001b[38;5;21mfit\u001b[39m(\u001b[38;5;28mself\u001b[39m, obs: np\u001b[38;5;241m.\u001b[39marray, x: np\u001b[38;5;241m.\u001b[39marray, ridge_reg:\u001b[38;5;28mfloat\u001b[39m \u001b[38;5;241m=\u001b[39m \u001b[38;5;241m1e-8\u001b[39m, fit_intercept: \u001b[38;5;28mbool\u001b[39m \u001b[38;5;241m=\u001b[39m \u001b[38;5;28;01mTrue\u001b[39;00m) \u001b[38;5;241m-\u001b[39m\u001b[38;5;241m>\u001b[39m Sequence:\n\u001b[0;32m     33\u001b[0m     \u001b[38;5;28;01mif\u001b[39;00m np\u001b[38;5;241m.\u001b[39misnan(\u001b[38;5;28mself\u001b[39m\u001b[38;5;241m.\u001b[39mdesign_matrix)\u001b[38;5;241m.\u001b[39many(): \n\u001b[1;32m---> 34\u001b[0m         \u001b[38;5;28mself\u001b[39m\u001b[38;5;241m.\u001b[39mdesign_matrix \u001b[38;5;241m=\u001b[39m \u001b[38;5;28;43mself\u001b[39;49m\u001b[38;5;241;43m.\u001b[39;49m\u001b[43mcreate_design_matrix\u001b[49m\u001b[43m(\u001b[49m\u001b[43mx\u001b[49m\u001b[43m,\u001b[49m\u001b[43m \u001b[49m\n\u001b[0;32m     35\u001b[0m \u001b[43m                                  \u001b[49m\u001b[43mdegree\u001b[49m\u001b[43m \u001b[49m\u001b[38;5;241;43m=\u001b[39;49m\u001b[43m \u001b[49m\u001b[38;5;28;43mself\u001b[39;49m\u001b[38;5;241;43m.\u001b[39;49m\u001b[43mdegree\u001b[49m\u001b[43m,\u001b[49m\u001b[43m \u001b[49m\n\u001b[0;32m     36\u001b[0m \u001b[43m                                  \u001b[49m\u001b[43mfit_intercept\u001b[49m\u001b[43m \u001b[49m\u001b[38;5;241;43m=\u001b[39;49m\u001b[43m \u001b[49m\u001b[43mfit_intercept\u001b[49m\n\u001b[0;32m     37\u001b[0m \u001b[43m                                  \u001b[49m\u001b[43m)\u001b[49m\n\u001b[0;32m     38\u001b[0m     X \u001b[38;5;241m=\u001b[39m \u001b[38;5;28mself\u001b[39m\u001b[38;5;241m.\u001b[39mdesign_matrix\n\u001b[0;32m     39\u001b[0m     A \u001b[38;5;241m=\u001b[39m X\u001b[38;5;241m.\u001b[39mT \u001b[38;5;241m@\u001b[39m X  \n",
      "File \u001b[1;32mc:\\Users\\Admin\\Desktop\\lab_optique\\code\\phy3040\\notebooks\\../src\\regression.py:27\u001b[0m, in \u001b[0;36mFrequentistRegression.create_design_matrix\u001b[1;34m(self, x, degree, fit_intercept)\u001b[0m\n\u001b[0;32m     18\u001b[0m \u001b[38;5;28;01mdef\u001b[39;00m \u001b[38;5;21mcreate_design_matrix\u001b[39m(\u001b[38;5;28mself\u001b[39m, x:np\u001b[38;5;241m.\u001b[39marray, degree:\u001b[38;5;28mint\u001b[39m \u001b[38;5;241m=\u001b[39m \u001b[38;5;241m1\u001b[39m, fit_intercept:\u001b[38;5;28mbool\u001b[39m \u001b[38;5;241m=\u001b[39m \u001b[38;5;28;01mTrue\u001b[39;00m) \u001b[38;5;241m-\u001b[39m\u001b[38;5;241m>\u001b[39m np\u001b[38;5;241m.\u001b[39marray:\n\u001b[0;32m     19\u001b[0m \u001b[38;5;250m    \u001b[39m\u001b[38;5;124;03m\"\"\"\u001b[39;00m\n\u001b[0;32m     20\u001b[0m \u001b[38;5;124;03m    Creates the design matrix of the linear regression.\u001b[39;00m\n\u001b[0;32m     21\u001b[0m \n\u001b[1;32m   (...)\u001b[0m\n\u001b[0;32m     25\u001b[0m \u001b[38;5;124;03m        fit_intercept (bool, optional): . Defaults to True.\u001b[39;00m\n\u001b[0;32m     26\u001b[0m \u001b[38;5;124;03m    \"\"\"\u001b[39;00m\n\u001b[1;32m---> 27\u001b[0m     X \u001b[38;5;241m=\u001b[39m np\u001b[38;5;241m.\u001b[39mcolumn_stack(\u001b[43m[\u001b[49m\u001b[43mx\u001b[49m\u001b[43m \u001b[49m\u001b[38;5;241;43m*\u001b[39;49m\u001b[38;5;241;43m*\u001b[39;49m\u001b[43m \u001b[49m\u001b[43mi\u001b[49m\u001b[43m \u001b[49m\u001b[38;5;28;43;01mfor\u001b[39;49;00m\u001b[43m \u001b[49m\u001b[43mi\u001b[49m\u001b[43m \u001b[49m\u001b[38;5;129;43;01min\u001b[39;49;00m\u001b[43m \u001b[49m\u001b[38;5;28;43mrange\u001b[39;49m\u001b[43m(\u001b[49m\u001b[38;5;241;43m1\u001b[39;49m\u001b[43m,\u001b[49m\u001b[43m \u001b[49m\u001b[43mdegree\u001b[49m\u001b[38;5;241;43m+\u001b[39;49m\u001b[38;5;241;43m1\u001b[39;49m\u001b[43m)\u001b[49m\u001b[43m]\u001b[49m)\n\u001b[0;32m     28\u001b[0m     \u001b[38;5;28;01mif\u001b[39;00m fit_intercept: \n\u001b[0;32m     29\u001b[0m         X \u001b[38;5;241m=\u001b[39m np\u001b[38;5;241m.\u001b[39mcolumn_stack([np\u001b[38;5;241m.\u001b[39mones_like(x), X])\n",
      "File \u001b[1;32mc:\\Users\\Admin\\Desktop\\lab_optique\\code\\phy3040\\notebooks\\../src\\regression.py:27\u001b[0m, in \u001b[0;36m<listcomp>\u001b[1;34m(.0)\u001b[0m\n\u001b[0;32m     18\u001b[0m \u001b[38;5;28;01mdef\u001b[39;00m \u001b[38;5;21mcreate_design_matrix\u001b[39m(\u001b[38;5;28mself\u001b[39m, x:np\u001b[38;5;241m.\u001b[39marray, degree:\u001b[38;5;28mint\u001b[39m \u001b[38;5;241m=\u001b[39m \u001b[38;5;241m1\u001b[39m, fit_intercept:\u001b[38;5;28mbool\u001b[39m \u001b[38;5;241m=\u001b[39m \u001b[38;5;28;01mTrue\u001b[39;00m) \u001b[38;5;241m-\u001b[39m\u001b[38;5;241m>\u001b[39m np\u001b[38;5;241m.\u001b[39marray:\n\u001b[0;32m     19\u001b[0m \u001b[38;5;250m    \u001b[39m\u001b[38;5;124;03m\"\"\"\u001b[39;00m\n\u001b[0;32m     20\u001b[0m \u001b[38;5;124;03m    Creates the design matrix of the linear regression.\u001b[39;00m\n\u001b[0;32m     21\u001b[0m \n\u001b[1;32m   (...)\u001b[0m\n\u001b[0;32m     25\u001b[0m \u001b[38;5;124;03m        fit_intercept (bool, optional): . Defaults to True.\u001b[39;00m\n\u001b[0;32m     26\u001b[0m \u001b[38;5;124;03m    \"\"\"\u001b[39;00m\n\u001b[1;32m---> 27\u001b[0m     X \u001b[38;5;241m=\u001b[39m np\u001b[38;5;241m.\u001b[39mcolumn_stack([\u001b[43mx\u001b[49m\u001b[43m \u001b[49m\u001b[38;5;241;43m*\u001b[39;49m\u001b[38;5;241;43m*\u001b[39;49m\u001b[43m \u001b[49m\u001b[43mi\u001b[49m \u001b[38;5;28;01mfor\u001b[39;00m i \u001b[38;5;129;01min\u001b[39;00m \u001b[38;5;28mrange\u001b[39m(\u001b[38;5;241m1\u001b[39m, degree\u001b[38;5;241m+\u001b[39m\u001b[38;5;241m1\u001b[39m)])\n\u001b[0;32m     28\u001b[0m     \u001b[38;5;28;01mif\u001b[39;00m fit_intercept: \n\u001b[0;32m     29\u001b[0m         X \u001b[38;5;241m=\u001b[39m np\u001b[38;5;241m.\u001b[39mcolumn_stack([np\u001b[38;5;241m.\u001b[39mones_like(x), X])\n",
      "\u001b[1;31mTypeError\u001b[0m: unsupported operand type(s) for ** or pow(): 'ellipsis' and 'int'"
     ]
    }
   ],
   "source": [
    "Regression_multimode = FrequentistRegression(\n",
    "    degree = 1,\n",
    "    sigma_noise = sigma_diameter\n",
    ")\n",
    "\n",
    "\n",
    "params_fitted, std_fitted = Regression_multimode.fit(\n",
    "    obs = ..., \n",
    "    x = ...,\n",
    "    ridge_reg = 1e-12,\n",
    "    fit_intercept = ...\n",
    ")\n",
    "\n",
    "cov = Regression_multimode.cov()\n",
    "chi2 = Regression_multimode.compute_chi2(obs = ...)\n",
    "\n",
    "print(\"The parameters fitted are\", params_fitted)\n",
    "print(\"The std of the params fitted are\", std_fitted)\n",
    "print(\"The cov of the params fitted is\", cov)\n",
    "print(\"The chi squared is:\", chi2)"
   ]
  },
  {
   "cell_type": "code",
   "execution_count": 37,
   "metadata": {},
   "outputs": [
    {
     "ename": "AttributeError",
     "evalue": "module 'matplotlib.pyplot' has no attribute 'axs'",
     "output_type": "error",
     "traceback": [
      "\u001b[1;31m---------------------------------------------------------------------------\u001b[0m",
      "\u001b[1;31mAttributeError\u001b[0m                            Traceback (most recent call last)",
      "Cell \u001b[1;32mIn[37], line 2\u001b[0m\n\u001b[0;32m      1\u001b[0m plt\u001b[38;5;241m.\u001b[39merrorbar(diameter, distance,  xerr \u001b[38;5;241m=\u001b[39m sigma_diameter, yerr \u001b[38;5;241m=\u001b[39m sigma_distance, fmt \u001b[38;5;241m=\u001b[39m \u001b[38;5;124m\"\u001b[39m\u001b[38;5;124m.\u001b[39m\u001b[38;5;124m\"\u001b[39m, color \u001b[38;5;241m=\u001b[39m \u001b[38;5;124m\"\u001b[39m\u001b[38;5;124mgreen\u001b[39m\u001b[38;5;124m\"\u001b[39m)\n\u001b[1;32m----> 2\u001b[0m \u001b[43mplt\u001b[49m\u001b[38;5;241;43m.\u001b[39;49m\u001b[43maxs\u001b[49m\n",
      "\u001b[1;31mAttributeError\u001b[0m: module 'matplotlib.pyplot' has no attribute 'axs'"
     ]
    },
    {
     "data": {
      "image/png": "[encoded data removed]",
      "text/plain": [
       "<Figure size 350x262.5 with 1 Axes>"
      ]
     },
     "metadata": {},
     "output_type": "display_data"
    }
   ],
   "source": [
    "plt.errorbar(diameter, distance,  xerr = sigma_diameter, yerr = sigma_distance, fmt = \".\", color = \"green\")\n",
    "plt.pl"
   ]
  },
  {
   "cell_type": "code",
   "execution_count": null,
   "metadata": {},
   "outputs": [],
   "source": []
  }
 ],
 "metadata": {
  "kernelspec": {
   "display_name": "Python 3",
   "language": "python",
   "name": "python3"
  },
  "language_info": {
   "codemirror_mode": {
    "name": "ipython",
    "version": 3
   },
   "file_extension": ".py",
   "mimetype": "text/x-python",
   "name": "python",
   "nbconvert_exporter": "python",
   "pygments_lexer": "ipython3",
   "version": "3.11.9"
  }
 },
 "nbformat": 4,
 "nbformat_minor": 2
}
