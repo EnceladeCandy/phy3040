{
 "cells": [
  {
   "cell_type": "code",
   "execution_count": 6,
   "metadata": {},
   "outputs": [],
   "source": [
    "import numpy as np\n",
    "import matplotlib.pyplot as plt\n",
    "import scienceplots\n",
    "import astropy.units as u\n",
    "import sys \n",
    "import os\n",
    "sys.path.append(\"../src\")\n",
    "from regression import FrequentistRegression\n",
    "# from scipy.optimize import curve_fit\n",
    "params = {\n",
    "         'axes.labelsize': 20,\n",
    "         'axes.titlesize': 20,\n",
    "         'ytick.labelsize' :20,\n",
    "         'xtick.labelsize' :20,\n",
    "         'legend.fontsize': 15,\n",
    "         'xtick.major.size': 5,\n",
    "         'xtick.minor.size': 4,\n",
    "         'xtick.major.width': 3,\n",
    "         'xtick.minor.width': 2,\n",
    "         'ytick.major.size': 5,\n",
    "         'ytick.minor.size': 4,\n",
    "         'ytick.major.width': 3,\n",
    "         'ytick.minor.width': 2,\n",
    "         'ytick.color': \"k\",\n",
    "         'xtick.color': \"k\",\n",
    "         'axes.labelcolor': \"k\",\n",
    "         'ytick.labelcolor' : \"k\",\n",
    "         'xtick.labelcolor' : \"k\",\n",
    "         'font.size': 15\n",
    "         }\n",
    "plt.rcParams.update(params)\n",
    "plt.style.use('science')\n",
    "\n",
    "figure_folder = 'C://Users//Admin//Desktop//lab_optique//data//optique_non_lineaire'"
   ]
  },
  {
   "cell_type": "markdown",
   "metadata": {},
   "source": [
    "## Théorie: \n",
    "\n",
    "Un laser utilise le principe d'inversion de population pour produire un faisceau cohérent de photons (une seule longueur d'onde, phase uniforme en temps et en espace). \n",
    "\n",
    "On veut faire différentes mesures spécifiques dans cette expériences: \n",
    "1) La puissance du laser en fonction du courant $I$ dans la diode\n",
    "2) Déterminer la polarisation de l'émission laser\n",
    "3) Ajouter cristal KTP et une lame demi-onde pour obtenir une émission pour la deuxième harmonique (doublage de fréquence) en fonction de l'angle de la lame demi-onde $\\theta$ et de l'orientation du cristal (prendre des mesures pour plusieurs angles et orientations)\n",
    "4) Déterminez (ou mesurer ?) l'intensité à 532 nm en fonction de l'orientation du cristal et de la lame demi-onde (mesurer pour différentes orientations et angles)\n",
    "5) \n",
    "6) \n",
    "7) Expérience additionnelle: Polarisation après l'ajout du cristal ?\n",
    "\n",
    "### Questions: \n",
    "Are we supposed to measure the polarization ? How ? \n",
    "\n"
   ]
  },
  {
   "cell_type": "markdown",
   "metadata": {},
   "source": [
    "## Semaine 1: \n",
    "Les différentes expériences de cette semaine incluent: \n",
    "1) Mesures de la loi de Malus\n",
    "2) Mesures du spectre $I$ vs $\\lambda$ du laser autour de 1064 nm (avec un courant dans la pompe $I_p$ constant)\n",
    "3) Mesures du rapport $\\frac{I_{max}(1064 \\text{nm})}{I_{max}(\\text{808 nm})}$ en fonction du courant dans la pompe. \n",
    "\n",
    "\n",
    "#### Loi de Malus. \n",
    "\n",
    "La loi de Malus relie l'intensité d'une onde polarisée linéairement d'intensité $I_0 = \\sqrt{E_0}$ à l'intensité $I$ de l'onde après son passage dans un polariseur linéaire parfait orienté selon un angle $\\theta - \\phi$ par rapport au plan de propagation de l'onde. Mathématiquement, on a \n",
    "$$\n",
    "I(\\theta) = I_0 \\cos^2(\\theta - \\phi) \\, .\n",
    "$$\n",
    "Durant l'expérience, on mesurait seulement $\\theta$, l'angle de polarisation du polariseur par rapport à la verticale. Cependant, la loi de Malus s'applique pour **l'angle de polarisation entre le polariseur et la direction de polarisation du laser** et on doit introduire le déphasage $\\phi$. Il nous faut donc ajuster deux paramètres, $I_0$ et $\\phi$. \n",
    "\n",
    "Parlons d'incertitudes avant de commencer le code. On utilise la plus demie-mesure de la plus petite graduation de notre instrument de mesure pour l'angle, donc $\\sigma_\\theta \\sim 2$ degrés. Pour I, on prend une vingtaine de mesures au même angle en réinitialisant le set up expérimental à chaque fois et on mesure l'écart type de cet ensemble de mesures. \n",
    "\n",
    "Petit calcul pour \"rendre la loi de Malus linéaire\": \n",
    "$$\n",
    "\\begin{align}\n",
    "\\cos^2(\\theta - \\phi)&=\\frac{1 + \\cos\\left(2(\\theta - \\phi)\\right)}{2}\n",
    "\\\\\n",
    "&=\\frac{1}{2} + \\frac{1}{2}\\cos(2(\\theta - \\phi))\n",
    "\\\\\n",
    "&=\\frac{1}{2} + \\frac{1}{2}\\left[\\cos(2\\theta)\\cos(2\\phi) + \\sin(2 \\theta)\\sin(2 \\phi) \\right]\n",
    "\\\\\n",
    "&= \\frac{1}{2} + \\beta_1\\cos(2\\theta) +\\beta_2 \\sin(2 \\theta) \n",
    "\\end{align}\n",
    "$$\n",
    "On peut donc réécrire la loi de Malus de manière linéaire comme \n",
    "$$\n",
    "I(\\theta) = \\beta_0 + \\beta_1 \\cos(2 \\theta) + \\beta_2 \\sin(2\\theta)\n",
    "$$\n",
    "où les $\\beta_i$ sont les paramètres à ajuster avec \n",
    "$$\n",
    "\\begin{align}\n",
    "\\beta_0 = \\frac{I_0}{2} &\\rightarrow I_0 = 2 \\beta_0\n",
    "\\\\\n",
    "\\beta_1 = \\frac{I_0}{2} \\cos(2\\phi) &\\rightarrow \\phi = \\frac{1}{2}\\arccos(\\beta_1/\\beta_0)\n",
    "\\\\\n",
    "\\beta_2 = \\frac{I_0}{2}\\sin(2\\phi) &\\rightarrow \\phi = -\\frac{1}{2}\\arcsin(\\beta_2/\\beta_0)\n",
    "\\\\\n",
    "\\frac{\\beta_2}{\\beta_1}= \\tan(2 \\phi) &\\rightarrow \\phi = \\frac{1}{2}\\arctan(\\beta_2/\\beta_1)\n",
    "\\end{align}\n",
    "$$\n",
    "\n",
    "À l'issue de la régression linéaire, on a des incertitudes sur les paramètres ajustées $\\beta_i$. On utilise donc la formule de propagation des incertitudes pour retrouver les incertitudes sur les variables physiques $I_0$ et $\\phi$.\n",
    "$$\n",
    "\\begin{align}\n",
    "I_0 &= 2 \\beta_0 \\\\\n",
    "\\sigma_{I_0} &=|\\frac{\\partial I_0}{\\partial \\beta_0}\\sigma_{\\beta_0}|=2 \\sigma_{\\beta_0}\\\\\n",
    "\\phi &= \\frac{1}{2} \\arctan\\left( \\frac{\\beta_2}{\\beta_1}\\right)\n",
    "\\\\\n",
    "\\frac{\\partial \\phi}{\\partial \\beta_2} &= \\frac{\\beta_1}{2(\\beta_1^2 + \\beta_2^2)} \n",
    "\\\\\n",
    "\\frac{\\partial \\phi}{\\partial \\beta_1} &= -\\frac{\\beta_2}{2(\\beta_1^2 + \\beta_2^2)} \n",
    "\\\\\n",
    "\\sigma_\\phi &= \\sqrt{\\left( \\frac{\\partial \\phi}{\\partial \\beta_1}\\right)^2\\sigma_{\\beta_1}^2 + \\left( \\frac{\\partial \\phi}{\\partial \\beta_2}\\right)^2\\sigma_{\\beta_2}^2} \n",
    "\\\\\n",
    "&= \\sqrt{\\left(\\frac{\\beta_1}{2(\\beta_1^2 + \\beta_2^2)} \\right)^2 \\sigma_{\\beta_1}^2 + \\left(\\frac{\\beta_2}{2(\\beta_1^2 + \\beta_2^2)} \\right)^2 \\sigma_{\\beta_2}^2}\n",
    "\\\\\n",
    "&= \\frac{1}{2(\\beta_1^2 + \\beta_2^2)}\\sqrt{\\beta_1^2\\sigma_{\\beta_1}^2 + \\beta_2 \\sigma_{\\beta_2}^2}\n",
    "\\end{align}\n",
    "$$\n",
    "\n",
    "Dernière équation ici. On va également avoir une incertitude sur l'intensité prédite par la loi de Malus en propageant les incertitudes une dernière fois. \n",
    "$$\n",
    "\\begin{align}\n",
    "\\sigma_{I} &= \\sqrt{\\left( \\frac{\\partial I}{\\partial I_0}\\right)^2\\sigma_{I_0}^2 + \n",
    "\\left( \\frac{\\partial I}{\\partial \\theta}\\right)^2\\sigma_{\\theta}^2\n",
    "+\n",
    "\\left( \\frac{\\partial I}{\\partial \\phi}\\right)^2\\sigma_{\\phi}^2}\n",
    "\\\\\n",
    "&= \\sqrt{\\cos^2(\\theta-\\phi)\\sigma_{I_0}^2  + 4 I_0^2\\sin^2(\\theta-\\phi)\\cos^2(\\theta-\\phi)\\sigma_{\\phi}^2+4 I_0^2\\sin^2(\\theta-\\phi)\\cos^2(\\theta-\\phi)\\sigma_{\\theta}^2}\n",
    "\\end{align}\n",
    "$$\n",
    "\n",
    "Note: De manière équivalente, on peut faire passer les valeurs $(I_{0}, \\theta, \\phi)$ perturbées par les déviations standards $(\\sigma_{I_{0}},\\sigma_{\\theta}, \\sigma_{\\phi})$ puis les faire passer dans la loi de Malus afin de propager les incertitudes. Cette méthode implique moins de maths (mais la précédente constitue une belle dérivation!)."
   ]
  },
  {
   "cell_type": "code",
   "execution_count": 7,
   "metadata": {},
   "outputs": [],
   "source": [
    "def malus_law(theta, I0, phi):\n",
    "    return I0 * np.cos(theta - phi) ** 2\n",
    "\n",
    "def fit_params_to_phys_params(param1, param2, param3): \n",
    "    return np.array([2 * param1, 0.5 * np.arctan(param3 / param2)])\n",
    "\n",
    "def std_params_to_std_physical(params, stds): \n",
    "    \"\"\"\n",
    "    Must take as input the combination (value, std)\n",
    "\n",
    "    Args:\n",
    "        pair1 (Tuple): _description_\n",
    "        pair2 (Tuple): _description_\n",
    "        pair3 (Tuple): _description_\n",
    "    \"\"\"\n",
    "    sigma_intensity_fitted = 2 * stds[0]\n",
    "\n",
    "    beta1, beta2 = params[1:]\n",
    "    sigma_beta1 = stds[1]\n",
    "    sigma_beta2 = stds[2]\n",
    "    sigma_phi_fitted = 1 / (beta1 ** 2 + beta2 ** 2) * np.sqrt(beta1 ** 2 * sigma_beta1 ** 2 + beta2 ** 2 * sigma_beta2 ** 2)\n",
    "    return np.array([sigma_intensity_fitted, sigma_phi_fitted])\n",
    "\n",
    "def std_malus(theta, phys_fitted, phys_std, std_theta):\n",
    "    I0, phi = phys_fitted\n",
    "    std_intensity, std_phi = phys_std\n",
    "    return np.sqrt(np.cos(theta - phi) ** 2 * std_intensity ** 2  + (2 * I0 * np.sin(theta - phi) * np.cos(theta - phi)) ** 2 * (std_phi ** 2 + std_theta ** 2))"
   ]
  },
  {
   "cell_type": "code",
   "execution_count": 8,
   "metadata": {},
   "outputs": [
    {
     "name": "stdout",
     "output_type": "stream",
     "text": [
      "Intensité initiale du laser: 9.19 +/- 0.23 micro-amperes\n",
      "Déphasage: 39 +/- 2 degrees\n",
      "1.022764447656902\n"
     ]
    }
   ],
   "source": [
    "# Importation des valeurs expérimentales mesurées \n",
    "theta = np.arange(20, 361, 20) * u.degree.to(u.radian)  # rad\n",
    "sigma_theta = 2 * u.degree.to(u.radian) # rad\n",
    "intensity_20 = np.array([0.007,  0.0073, 0.0072,0.00702, 0.00713, 0.00612, 0.00625, 0.00618, 0.0064]) # series of measurements at theta=20 radians\n",
    "intensity = np.array([intensity_20.mean(), 0.01000, 0.00842, 0.00527, 0.00186, 0.00023, 0.00049, 0.00275, 0.0053, 0.00835, 0.00920, 0.00770, 0.00520, 0.00200, 0.0002, 0.00049, 0.0026, 0.00590]) # mA\n",
    "sigma_intensity = intensity_20.std(ddof = 1)\n",
    "\n",
    "# Régression linéaire (voir code dans src/regression.py)\n",
    "Regression = FrequentistRegression(\n",
    "    degree = 1,\n",
    "    sigma_noise = sigma_intensity\n",
    ")\n",
    "\n",
    "# Créer la 'design matrix' de régression\n",
    "Regression.design_matrix = np.column_stack([np.ones_like(theta),  np.cos(2 * theta), np.sin(2 * theta)])\n",
    "\n",
    "# Calcul des paramètres beta_i optimaux\n",
    "params_fitted, std_fitted = Regression.fit(\n",
    "    obs = intensity, \n",
    "    x = None, \n",
    "    ridge_reg = 1e-9, \n",
    "    fit_intercept = True\n",
    ")\n",
    "\n",
    "# Conversion des paramètres de régression ajustées aux paramèteres physiques d'intérêt (ici, l'intensité initiale du faisceau et le déphasage)\n",
    "phys_fitted = fit_params_to_phys_params(*params_fitted) \n",
    "phys_std = std_params_to_std_physical(params = params_fitted, stds = std_fitted)# incertitude sur paramètre physique\n",
    "intensity_fitted, phi_fitted = phys_fitted\n",
    "intensity_pred = malus_law(theta, *phys_fitted) # intensity predicted by adjusting our physical model on data \n",
    "norm_residuals =  (intensity - intensity_pred) / sigma_intensity \n",
    "chi2 = Regression.compute_chi2(obs = intensity)\n",
    "\n",
    "print(f\"Intensité initiale du laser: {phys_fitted[0] * 1e3:.2f} +/- {phys_std[0]* 1e3:.2f} micro-amperes\")\n",
    "print(f\"Déphasage: {phys_fitted[1] *u.radian.to(u.degree):.0f} +/- {phys_std[1]*u.radian.to(u.degree):.0f} degrees\")\n",
    "print(chi2)"
   ]
  },
  {
   "cell_type": "code",
   "execution_count": 9,
   "metadata": {},
   "outputs": [
    {
     "data": {
      "image/png": "[encoded data removed]",
      "text/plain": [
       "<Figure size 600x400 with 1 Axes>"
      ]
     },
     "metadata": {},
     "output_type": "display_data"
    }
   ],
   "source": [
    "from matplotlib.ticker import MultipleLocator\n",
    "# Première figure: Intensité versus angle \n",
    "fig, axs = plt.subplots(1, 1, figsize = (6, 4))\n",
    "ax = axs\n",
    "\n",
    "# Afficher mesures avec erreurs\n",
    "x = theta - phi_fitted # tableau de valeurs axe des x\n",
    "ax.errorbar(x = x, \n",
    "            y = intensity * 1e3, \n",
    "            xerr = sigma_theta, \n",
    "            yerr = sigma_intensity * 1e3, \n",
    "            fmt = '.', \n",
    "            elinewidth=1.5, \n",
    "            label = 'Mesures', \n",
    "            color = 'midnightblue'\n",
    "            )\n",
    "\n",
    "# Afficher prédiction du model \n",
    "x_range = np.array([-np.pi / 4, 2 * np.pi])\n",
    "x_fit =  np.linspace(x_range.min(), x_range.max()-phi_fitted + 0.2, 100)\n",
    "intensity_fitted = malus_law(x_fit + phi_fitted, *phys_fitted)\n",
    "ax.plot(x_fit, intensity_fitted * 1e3, \"green\", label = 'Régression linéaire')\n",
    "\n",
    "# Afficher incertitudes sur la régression linéaire\n",
    "# phys_min = phys_fitted - 1 * phys_std\n",
    "# phys_max = phys_fitted + 1 * phys_std\n",
    "# intensity_min = malus_law(x_fit + phi_fitted, *phys_min)\n",
    "# intensity_max = malus_law(x_fit + phi_fitted, *phys_max)\n",
    "std_intensity = np.sqrt(std_malus(theta = x_fit + phi_fitted, phys_fitted = phys_fitted, phys_std = phys_std, std_theta=sigma_theta) **2 + sigma_intensity ** 2)\n",
    "k = 2\n",
    "ax.fill_between(\n",
    "    x = x_fit, \n",
    "    y1 = (intensity_fitted - k * std_intensity) * 1e3, \n",
    "    y2 = (intensity_fitted + k * std_intensity) * 1e3,\n",
    "    color = 'mediumseagreen', \n",
    "    alpha = 0.5, \n",
    "    label = r'Incertitudes ($95\\%$)'\n",
    "    )\n",
    "\n",
    "# Rendre la figure plus jolie :) \n",
    "ax.set(xlabel = r\"$(\\theta-\\phi_{fit})$[rad]\", ylabel = r\"$I$[$\\mu$A]\", xlim = [-1, 6.], ylim = [-2, 18])\n",
    "x_ticks = np.arange(0, 5, np.pi/2)\n",
    "x_tick_labels = [r\"$0$\", r\"$\\pi/2$\", r\"$\\pi$\", r\"$3\\pi/2$\"]\n",
    "ax.xaxis.set_ticks(x_ticks)\n",
    "ax.xaxis.set_ticklabels(x_tick_labels)\n",
    "\n",
    "ax.tick_params(which = 'major', axis = 'both', length = 7, width = 1.5)\n",
    "ax.tick_params(which = 'minor', axis = 'both', length = 3.5, width = 1.5)\n",
    "ax.annotate(r\"$\\chi^2_{\\nu} = %.2f$\"%chi2, xy = (0.05, 0.85), xycoords = 'axes fraction', color = 'r', fontsize = 20)\n",
    "handles, labels = plt.gca().get_legend_handles_labels()\n",
    "order = [2,0,1]\n",
    "ax.legend([handles[idx] for idx in order],[labels[idx] for idx in order])\n",
    "plt.savefig(os.path.join(figure_folder, 'figure_malus.pdf'), bbox_inches = 'tight')\n",
    "# maj_ticks = "
   ]
  },
  {
   "cell_type": "code",
   "execution_count": 10,
   "metadata": {},
   "outputs": [
    {
     "data": {
      "text/plain": [
       "(array([ 1.,  0.,  4., 11.,  2.]),\n",
       " array([-3.07211272, -2.12111694, -1.17012116, -0.21912538,  0.73187039,\n",
       "         1.68286617]),\n",
       " <BarContainer object of 5 artists>)"
      ]
     },
     "execution_count": 10,
     "metadata": {},
     "output_type": "execute_result"
    },
    {
     "data": {
      "image/png": "[encoded data removed]",
      "text/plain": [
       "<Figure size 350x262.5 with 1 Axes>"
      ]
     },
     "metadata": {},
     "output_type": "display_data"
    }
   ],
   "source": [
    "plt.hist(norm_residuals, bins = 5)"
   ]
  },
  {
   "cell_type": "markdown",
   "metadata": {},
   "source": [
    "### Calcul de la largeur spectrale du pic d'émission du laser \n",
    "Commençons par importer les données et puis par estimer l'incertitude sur le 'counts' mesuré par le spectromètre"
   ]
  },
  {
   "cell_type": "code",
   "execution_count": 11,
   "metadata": {},
   "outputs": [],
   "source": [
    "def import_data(filename):\n",
    "    wavelength = []\n",
    "    intensity = []\n",
    "    with open(filename, \"r\") as f: \n",
    "        lines = f.readlines()\n",
    "        lines = lines[17:-1]\n",
    "        for line in lines:\n",
    "            line = line.strip()\n",
    "            line = line.split(\"\\t\")\n",
    "            wavelength.append(float(line[0].replace(\",\", \".\"))) # counts \n",
    "            intensity.append(float(line[1].replace(\",\", \".\"))) # nanometers \n",
    "    return np.array(wavelength), np.array(intensity)\n",
    "\n",
    "def get_window(wavelength, intensity, wavelength_center = 1064, extent = 50):\n",
    "    \"\"\"\n",
    "    Get a slice of the wavelength data and the intensity data around a specific wavelength\n",
    "    \"\"\"\n",
    "    idx_center = np.argmin(abs(wavelength - wavelength_center))\n",
    "    D, U = idx_center - extent, idx_center + extent\n",
    "    return wavelength[D:U], intensity[D:U]\n"
   ]
  },
  {
   "cell_type": "code",
   "execution_count": 12,
   "metadata": {},
   "outputs": [
    {
     "name": "stderr",
     "output_type": "stream",
     "text": [
      "10it [00:00, 55.87it/s]\n"
     ]
    }
   ],
   "source": [
    "from glob import glob\n",
    "from tqdm import tqdm \n",
    "pattern = \"450_std*.txt\"\n",
    "std_files = glob(os.path.join(figure_folder, pattern))\n",
    "\n",
    "std_file = std_files[0]\n",
    "wavelength = []\n",
    "intensity = []\n",
    "\n",
    "low_center = 808 #nm\n",
    "high_center = 1064 #nm\n",
    "multiple_intensity_peaks = np.empty(shape = (len(std_files), 2))\n",
    "\n",
    "for i, std_file in tqdm(enumerate(std_files)):\n",
    "    wavelength, intensity = import_data(filename = std_file)\n",
    "\n",
    "    wavelength_low, intensity_low = get_window(wavelength = wavelength, \n",
    "                                            intensity = intensity, \n",
    "                                            wavelength_center = low_center, \n",
    "                                            extent = 500) \n",
    "\n",
    "    wavelength_high, intensity_high = get_window(wavelength = wavelength, \n",
    "                                            intensity = intensity, \n",
    "                                            wavelength_center = high_center, \n",
    "                                            extent = 500) \n",
    "    multiple_intensity_peaks[i] = np.array([intensity_low.max(), intensity_high.max()])\n"
   ]
  },
  {
   "cell_type": "code",
   "execution_count": 13,
   "metadata": {},
   "outputs": [],
   "source": [
    "sigma_wavelength = 10 # nm (donnée par Arthur)\n",
    "sigma_intensity = multiple_intensity_peaks.std(axis = 0, ddof = 1).max() # "
   ]
  },
  {
   "cell_type": "markdown",
   "metadata": {},
   "source": [
    "Le bruit de l'instrument semble varier avec l'intensité (ou peut-être la longueur d'onde?)... Puisque nous n'avons pas accès à la fonction de réponse du spectromètre selon la longueur d'onde, faisons pour l'instant l'hypothèse d'un bruit constant.\n",
    "\n",
    "On peut maintenant importer les données pour le fit de la Gaussienne."
   ]
  },
  {
   "cell_type": "code",
   "execution_count": 14,
   "metadata": {},
   "outputs": [
    {
     "name": "stdout",
     "output_type": "stream",
     "text": [
      "1411.8454358552633\n"
     ]
    },
    {
     "data": {
      "image/png": "[encoded data removed]",
      "text/plain": [
       "<Figure size 1800x400 with 3 Axes>"
      ]
     },
     "metadata": {},
     "output_type": "display_data"
    }
   ],
   "source": [
    "filename = os.path.join(figure_folder, \"spectral_width_low_counts.txt\")\n",
    "\n",
    "wavelength, intensity = import_data(filename = filename)\n",
    "print(intensity.mean())\n",
    "high_center = 1062.9\n",
    "wavelength_window, intensity_window = get_window(wavelength = wavelength, \n",
    "                                            intensity = intensity, \n",
    "                                            wavelength_center = high_center, \n",
    "                                            extent = 10) \n",
    "\n",
    "# Calcul d'ordonnée à l'origine à retirer (bruit ambiant)\n",
    "wavelength_window_noise, intensity_window_noise = get_window(wavelength = wavelength, \n",
    "                                            intensity = intensity, \n",
    "                                            wavelength_center = 700, \n",
    "                                            extent = 1000)\n",
    "offset = intensity_window_noise.mean()\n",
    "std = intensity_window_noise.std() \n",
    "\n",
    "nrows, ncols = 1, 3\n",
    "fig, axs = plt.subplots(nrows, ncols, figsize = (6 * ncols, 4 * nrows))\n",
    "\n",
    "ax = axs[0]\n",
    "ax.plot(wavelength, intensity-offset, \".\")\n",
    "ax.set_title(\"Raw data\")\n",
    "\n",
    "\n",
    "ax = axs[1]\n",
    "ax.plot(wavelength_window, intensity_window-offset, \".\")\n",
    "ax.set_title(\"Zoomed data\")\n",
    "\n",
    "\n",
    "ax = axs[2]\n",
    "ax.plot(wavelength_window, intensity_window-offset, \".\")\n",
    "ax.set_title(\"Zoomed data (log space)\")\n",
    "ax.set_yscale(\"log\")\n",
    "\n",
    "for ax in axs: \n",
    "    ax.set(xlabel = r\"$\\lambda$ [nm]\", ylabel= r\"Counts\")\n",
    "plt.subplots_adjust(wspace=0.4)\n",
    "\n",
    "# Selection d'une portion des données pour la suite\n",
    "wavelength = wavelength_window\n",
    "intensity = intensity_window - offset"
   ]
  },
  {
   "cell_type": "code",
   "execution_count": 15,
   "metadata": {},
   "outputs": [
    {
     "data": {
      "text/plain": [
       "np.float64(55.72405565845957)"
      ]
     },
     "execution_count": 15,
     "metadata": {},
     "output_type": "execute_result"
    }
   ],
   "source": [
    "std"
   ]
  },
  {
   "cell_type": "code",
   "execution_count": 16,
   "metadata": {},
   "outputs": [
    {
     "data": {
      "text/plain": [
       "np.float64(1344.56223)"
      ]
     },
     "execution_count": 16,
     "metadata": {},
     "output_type": "execute_result"
    }
   ],
   "source": [
    "offset"
   ]
  },
  {
   "cell_type": "markdown",
   "metadata": {},
   "source": [
    "On veut maintenant faire une régression linéaire sur une Gaussienne. L'astuce ici est de faire la régression dans l'espace logarithmique. L'intensité (en termes de comptes) est ici définie comme \n",
    "$$\n",
    "\\begin{align}\n",
    "I(\\lambda) = I_{0} \\exp\\left(-\\frac{(\\lambda-\\lambda_0)^2}{2w^2}\\right)\n",
    "\\end{align}\n",
    "$$\n",
    "où $\\lambda_{0}$ est la moyenne de la Gaussienne (là où le pic d'émission du laser est censé se situer)\n",
    "\n",
    "On peut maintenant appliquer le log\n",
    "$$\n",
    "\\begin{align}\n",
    "\\ln I (\\lambda)&= -\\frac{(\\lambda - \\lambda_0)^2}{2w^2} + \\ln(I_0)\n",
    "\\\\\n",
    "&= -\\frac{1}{2w^2} \\left(\\lambda^2 - 2 \\lambda \\lambda_{0} +\\lambda_{0}^2\\right) + \\ln(I_0)\n",
    "\\\\\n",
    "&= \\underbrace{-\\frac{1}{2w^2}}_{\\beta_0} \\lambda^2 + \\underbrace{\\frac{\\lambda_0}{w^2}}_{\\beta_1} \\lambda - \\underbrace{\\frac{\\lambda_{0}^{2}}{2w^2} + \\ln(I_0)}_{\\beta_2}\n",
    "\\\\\n",
    "&= \\beta_0 \\lambda^2 + \\beta_1 \\lambda + \\beta_2\n",
    "\\end{align}\n",
    "$$\n",
    "\n",
    "On isole maintenant les variables $\\lambda_0, w, I_0$ à partir des paramètres de la régression linéaire\n",
    "$$\n",
    "\\begin{align}\n",
    "w^2 &= -\\frac{1}{2 \\beta_0} \\Longrightarrow  \\sigma_{w^2} = \\frac{1}{2 \\beta_0^2} \\sigma_{\\beta_0}\n",
    "\\\\\n",
    "\\lambda_0 &= w^2 \\beta_1 =-\\frac{\\beta_1}{2 \\beta_0}\\Longrightarrow \\sigma_{\\lambda_0} = \\sqrt{\\beta_1^2 \\sigma_{w^2}^2 + w^2 \\sigma_{\\beta_1}^2} \n",
    "\\\\\n",
    "\\beta_2 &= -\\frac{\\lambda_0^2}{2w^2} + \\ln(I_0) \\Longrightarrow \\lambda_0^2=\\frac{\\beta_1^2}{4\\beta_0^2} \\Longrightarrow \\frac{\\lambda_0^2}{2w^2}=\\frac{1}{w^2}\\frac{\\beta_1^2}{8\\beta_0^2} = \\frac{\\beta_1^2}{2}\n",
    "\\\\\n",
    "I_0 &= e^{\\beta_2+\\frac{\\beta_1^2}{2}} = \\exp\\left( \\beta_2 + \\frac{\\beta_1^2}{2}\\right) \\Longrightarrow \\sigma_{I_0} = \\sqrt{\\exp(2\\beta_2 + \\beta_1^2) \\sigma_{\\beta_2^2} + \\beta_1^2\\exp(2\\beta_2 + \\beta_1^2)\\sigma_{\\beta_1}^2}\n",
    "\\end{align}\n",
    "$$\n",
    "\n",
    "Finalement, il faut propager les incertitudes en espace logarithmique: \n",
    "$$\n",
    "\\sigma_{\\ln(I)} = \\Biggr \\lvert \\frac{\\partial \\ln(I)}{\\partial I} \\Biggr \\rvert  \\sigma_I= \\frac{\\sigma_{I}}{I} \\, .\n",
    "$$\n",
    "\n",
    "Ici, on semble un peu embêter aux premiers abords afin d'inclure l'incertitude sur $\\ln(I)$; l'incertitude dépend de l'intensité elle-même et n'est pas constante ! La solution (fréquentiste) est de minimiser le \"weighted chi squared\", ou le poids est défini comme $w(I)=\\frac{1}{\\sigma^{2}_{\\ln(I)}}$. Une version de la régression pondérée (qui a une solution analytique) est implémentée dans l'objet `FrequentistRegression` avec la méthode `wfit`. "
   ]
  },
  {
   "cell_type": "code",
   "execution_count": 46,
   "metadata": {},
   "outputs": [],
   "source": [
    "def gaussian_profile(wavelength, I0 = 10, wavelength_center = 1064, width = 2): \n",
    "    I = I0 * np.exp( -(wavelength - wavelength_center) ** 2 / (2 * width) ** 2)\n",
    "    return I\n",
    "\n",
    "def fitted_params_to_phys_params(fitted_params):\n",
    "    beta2, beta1, beta0 = fitted_params\n",
    "    w2 = -1 / (2 * beta0)\n",
    "    lambda_0 = - beta1 / (2 * beta0)\n",
    "    I0 = np.exp(beta2 + lambda_0 **2/ (2 * w2))\n",
    "    return np.array([I0, lambda_0, w2])  \n",
    "\n",
    "def std_fitted_to_phys_fitted(fitted_params, phys_params, std_fitted): \n",
    "    beta2, beta1, beta0 = fitted_params\n",
    "    std_beta2, std_beta1, std_beta0  = std_fitted\n",
    "    I0, lambda_0, w2 = phys_params\n",
    "    \n",
    "    std_w2 = std_beta0 / (2 * beta0**2)\n",
    "    std_lambda0 = np.sqrt(beta1 ** 2 * std_w2 ** 2 + w2 * std_beta1 ** 2)\n",
    "    std_I0 = np.sqrt(np.exp(beta1**2 + 2 * beta2) * std_beta2 ** 2 + beta1 ** 2  * np.exp(beta1**2 + 2 * beta2) * std_beta1)\n",
    "\n",
    "    return np.array([std_I0, std_lambda0, std_w2])\n",
    "\n",
    "def compute_fwhm(sigma): \n",
    "    \"\"\"\n",
    "    Compute the FWHM of a Gaussian from its standard deviation\n",
    "    \"\"\"\n",
    "    return 2 * np.sqrt(2 * np.log(2)) * sigma"
   ]
  },
  {
   "cell_type": "code",
   "execution_count": 47,
   "metadata": {},
   "outputs": [
    {
     "name": "stdout",
     "output_type": "stream",
     "text": [
      "chi 1.2847703734643467\n",
      "[3.06444264e+04 1.06274550e+03 2.89459039e-01]\n"
     ]
    },
    {
     "name": "stderr",
     "output_type": "stream",
     "text": [
      "C:\\Users\\Admin\\AppData\\Local\\Temp\\ipykernel_35584\\3357122372.py:19: RuntimeWarning: overflow encountered in exp\n",
      "  std_I0 = np.sqrt(np.exp(beta1**2 + 2 * beta2) * std_beta2 ** 2 + beta1 ** 2  * np.exp(beta1**2 + 2 * beta2) * std_beta1)\n"
     ]
    }
   ],
   "source": [
    "Regression_width = FrequentistRegression(\n",
    "    degree = 2,\n",
    "    sigma_noise = sigma_intensity /intensity,\n",
    ") \n",
    "\n",
    "params_fitted, std_fitted = Regression_width.wfit(\n",
    "    obs = np.log(intensity), \n",
    "    x = wavelength, \n",
    "    ridge_reg = 0, \n",
    "    fit_intercept = True\n",
    ")\n",
    "\n",
    "chi2 = Regression_width.compute_chi2(\n",
    "    obs = np.log(intensity)\n",
    ")\n",
    "print( \"chi\", chi2)\n",
    "phys_fitted = fitted_params_to_phys_params(params_fitted)\n",
    "phys_std = std_fitted_to_phys_fitted(params_fitted, phys_fitted, std_fitted)\n",
    "pred_intensity_log = Regression_width.forward_model()\n",
    "print(phys_fitted)"
   ]
  },
  {
   "cell_type": "code",
   "execution_count": 48,
   "metadata": {},
   "outputs": [
    {
     "data": {
      "text/plain": [
       "array([3.06444264e+04, 1.06274550e+03, 2.89459039e-01])"
      ]
     },
     "execution_count": 48,
     "metadata": {},
     "output_type": "execute_result"
    }
   ],
   "source": [
    "phys_fitted"
   ]
  },
  {
   "cell_type": "code",
   "execution_count": 49,
   "metadata": {},
   "outputs": [
    {
     "data": {
      "text/plain": [
       "array([7.19653623e+04, 1.35422188e+02, 6.37083158e-02])"
      ]
     },
     "execution_count": 49,
     "metadata": {},
     "output_type": "execute_result"
    }
   ],
   "source": [
    "std_fitted"
   ]
  },
  {
   "cell_type": "code",
   "execution_count": 37,
   "metadata": {},
   "outputs": [
    {
     "data": {
      "text/plain": [
       "array([           inf, 1.40981524e+02, 1.06757981e-02])"
      ]
     },
     "execution_count": 37,
     "metadata": {},
     "output_type": "execute_result"
    }
   ],
   "source": [
    "phys_std"
   ]
  },
  {
   "cell_type": "markdown",
   "metadata": {},
   "source": [
    "Parfait, nous avons nos valeurs physiques optimales. Maintenant, propageons les incertitudes sur notre profil Gaussien pour obtenir une incertitude sur les prédictions de notre modèle. \n",
    "$$\n",
    "\\begin{align}\n",
    "\\sigma_{I_{m}}^2 = \\sigma_{I}^2 + \\left(\\frac{\\partial I}{\\partial I_{0}}\\right)^2 \\sigma_{I_{0}}^2+\\left(\\frac{\\partial I}{\\partial \\lambda_{0}}\\right)^2 \\sigma_{\\lambda_{0}}^2\n",
    "+ \n",
    "\\left(\\frac{\\partial I}{\\partial \\lambda}\\right)^2 \\sigma_{\\lambda}^2\n",
    "+ \n",
    "\\left(\\frac{\\partial I}{\\partial w}\\right)^2 \\sigma_{w}^2\n",
    "\\end{align}\n",
    "$$\n",
    "\n",
    "... Ça fait beaucoup.\n",
    "Allons-y: \n",
    "$$\n",
    "\\begin{align}\n",
    "\\frac{\\partial I}{\\partial I_{0}} &= \\exp\\left(-\\frac{(\\lambda-\\lambda_0)^2}{2w^2}\\right)\n",
    "\\\\\n",
    "\\frac{\\partial I}{\\partial \\lambda} &= \\frac{I_{0}}{w^2}(\\lambda - \\lambda_0)\\exp\\left(-\\frac{(\\lambda-\\lambda_0)^2}{2w^2}\\right)\n",
    "\\\\\n",
    "\\frac{\\partial I}{\\partial \\lambda_{0}} &= \\frac{I_{0}}{w^2}(\\lambda - \\lambda_0)\\exp\\left(-\\frac{(\\lambda-\\lambda_0)^2}{2w^2}\\right)\n",
    "\\\\\n",
    "\\frac{\\partial I}{\\partial w^2} &= \\frac{I_{0}}{2w^4}(\\lambda - \\lambda_0)^2\\exp\\left(-\\frac{(\\lambda-\\lambda_0)^2}{2w^2}\\right)\n",
    "\\end{align}\n",
    "$$"
   ]
  },
  {
   "cell_type": "code",
   "execution_count": 33,
   "metadata": {},
   "outputs": [
    {
     "data": {
      "text/plain": [
       "<matplotlib.legend.Legend at 0x2771c940c90>"
      ]
     },
     "execution_count": 33,
     "metadata": {},
     "output_type": "execute_result"
    },
    {
     "data": {
      "image/png": "[encoded data removed]",
      "text/plain": [
       "<Figure size 600x400 with 1 Axes>"
      ]
     },
     "metadata": {},
     "output_type": "display_data"
    }
   ],
   "source": [
    "wavelength_fit = np.linspace(wavelength.min()-20, wavelength.max()+20, 500)\n",
    "\n",
    "\n",
    "fig, axs = plt.subplots(1, 1, figsize = (6, 4))\n",
    "ax = axs\n",
    "ax.errorbar(x = wavelength, y = intensity, fmt = \".\", xerr=sigma_wavelength / 10, yerr=sigma_intensity, label = \"Mesures\", color = \"midnightblue\")\n",
    "intensity_prediction = gaussian_profile(wavelength_fit, *phys_fitted)\n",
    "ax.plot(wavelength_fit, intensity_prediction, label = \"Régression linéaire\", color = \"green\")\n",
    "ax.fill_between(wavelength_fit, intensity_prediction, intensity_prediction, label = \"Incertitudes (95 \\%)\", color = \"mediumseagreen\", alpha = 0.5)\n",
    "\n",
    "\n",
    "x_ticks = np.arange(1060, 1069, 2, dtype=np.int16)\n",
    "x_tick_labels = x_ticks\n",
    "y_ticks = np.arange(0, 30001, 10000)\n",
    "y_tick_labels = [r\"$0$\", r\"$10^4$\", r\"$2\\times 10^1$\", r\"$3 \\times 10^4$\"]\n",
    "ax.xaxis.set_ticks(x_ticks)\n",
    "ax.xaxis.set_ticklabels(x_tick_labels)\n",
    "ax.yaxis.set_ticks(y_ticks)\n",
    "ax.yaxis.set_ticklabels(y_tick_labels)\n",
    "ax.tick_params(which = 'major', axis = 'both', length = 7, width = 1.5)\n",
    "ax.tick_params(which = 'minor', axis = 'both', length = 3.5, width = 1.5)\n",
    "ax.annotate(r\"$\\chi^2_{\\nu} = %.2f$\"%chi2, xy = (0.6, 0.5), xycoords = 'axes fraction', color = 'r', fontsize = 20)\n",
    "ax.set(xlabel = r\"$\\lambda$[nm]\", ylabel = r\"$I$[comptes]\", xlim = (1060, 1069))\n",
    "handles, labels = plt.gca().get_legend_handles_labels()\n",
    "order = [2,0,1]\n",
    "\n",
    "plt.savefig(os.path.join(figure_folder, 'figure_width.pdf'), bbox_inches = 'tight')\n",
    "ax.legend([handles[idx] for idx in order],[labels[idx] for idx in order], loc = \"upper right\")"
   ]
  },
  {
   "cell_type": "code",
   "execution_count": 20,
   "metadata": {},
   "outputs": [
    {
     "data": {
      "text/plain": [
       "np.float64(1739.620641975651)"
      ]
     },
     "execution_count": 20,
     "metadata": {},
     "output_type": "execute_result"
    }
   ],
   "source": [
    "sigma_intensity"
   ]
  },
  {
   "cell_type": "code",
   "execution_count": 21,
   "metadata": {},
   "outputs": [
    {
     "data": {
      "text/plain": [
       "array([-1.95091854e+06,  3.67148838e+03, -1.72736012e+00])"
      ]
     },
     "execution_count": 21,
     "metadata": {},
     "output_type": "execute_result"
    }
   ],
   "source": [
    "params_fitted"
   ]
  },
  {
   "cell_type": "code",
   "execution_count": 22,
   "metadata": {},
   "outputs": [
    {
     "data": {
      "text/plain": [
       "array([3.06444264e+04, 1.06274550e+03, 2.89459039e-01])"
      ]
     },
     "execution_count": 22,
     "metadata": {},
     "output_type": "execute_result"
    }
   ],
   "source": [
    "phys_fitted"
   ]
  },
  {
   "cell_type": "code",
   "execution_count": 23,
   "metadata": {},
   "outputs": [
    {
     "ename": "NameError",
     "evalue": "name 'pred_intensity' is not defined",
     "output_type": "error",
     "traceback": [
      "\u001b[1;31m---------------------------------------------------------------------------\u001b[0m",
      "\u001b[1;31mNameError\u001b[0m                                 Traceback (most recent call last)",
      "Cell \u001b[1;32mIn[23], line 1\u001b[0m\n\u001b[1;32m----> 1\u001b[0m \u001b[43mpred_intensity\u001b[49m\n",
      "\u001b[1;31mNameError\u001b[0m: name 'pred_intensity' is not defined"
     ]
    }
   ],
   "source": [
    "pred_intensity"
   ]
  },
  {
   "cell_type": "code",
   "execution_count": 178,
   "metadata": {},
   "outputs": [
    {
     "data": {
      "text/plain": [
       "array([ 7.32214709,  7.31126514,  7.31262688,  7.344887  ,  7.39895762,\n",
       "        7.43827176,  7.36194071,  7.41141126,  7.37228772,  7.42371172,\n",
       "        7.40644962,  7.39644572,  7.45854941,  7.40520383,  7.46091024,\n",
       "        7.43465305,  7.42615018,  7.49221419,  7.53248978,  7.47841839,\n",
       "        7.51031561,  7.50582225,  7.47494233,  7.49221419,  7.5541829 ,\n",
       "        7.562728  ,  7.5541829 ,  7.61959172,  7.57436339,  7.56059596,\n",
       "        7.66574406,  7.66670424,  7.68475636,  7.75475595,  7.76262582,\n",
       "        7.95030502,  8.11991052,  8.61265609,  9.24597003,  9.77427084,\n",
       "       10.14608347, 10.32442009, 10.36769913, 10.30883932, 10.15472281,\n",
       "        9.91713845,  9.59367234,  9.31433005,  9.00437714,  8.7238821 ,\n",
       "        8.38260295,  8.18991615,  8.03006782,  7.90299397,  7.80442273,\n",
       "        7.652218  ,  7.6733952 ,  7.65416357,  7.60337939,  7.62659945,\n",
       "        7.58065383,  7.54772318,  7.55095563,  7.55846458,  7.52588792,\n",
       "        7.48992621,  7.49107085,  7.52035379,  7.47957628,  7.40893049,\n",
       "        7.46911811,  7.42126131,  7.38761641,  7.4370709 ,  7.42493467,\n",
       "        7.35410638,  7.32484588,  7.33825115,  7.38125903,  7.37228772,\n",
       "        7.33692389,  7.3288903 ,  7.34356852,  7.27077903,  7.3329119 ,\n",
       "        7.33958315,  7.34356852,  7.29471012,  7.32619584,  7.28211492,\n",
       "        7.2905316 ,  7.35541744,  7.29192184,  7.31807525,  7.29192184,\n",
       "        7.33157098,  7.24187475,  7.28352378,  7.18609888,  7.30302189])"
      ]
     },
     "execution_count": 178,
     "metadata": {},
     "output_type": "execute_result"
    }
   ],
   "source": [
    "np.log(intensity)"
   ]
  },
  {
   "cell_type": "code",
   "execution_count": 156,
   "metadata": {},
   "outputs": [
    {
     "data": {
      "text/plain": [
       "array([ 2.23472712e+54,  9.40421360e-04, -3.53333740e-09])"
      ]
     },
     "execution_count": 156,
     "metadata": {},
     "output_type": "execute_result"
    }
   ],
   "source": [
    "phys_fitted"
   ]
  },
  {
   "cell_type": "code",
   "execution_count": 130,
   "metadata": {},
   "outputs": [
    {
     "data": {
      "text/plain": [
       "array([-1.41509271e+08,  2.66156682e+05, -1.25143713e+02])"
      ]
     },
     "execution_count": 130,
     "metadata": {},
     "output_type": "execute_result"
    }
   ],
   "source": [
    "params_fitted"
   ]
  }
 ],
 "metadata": {
  "kernelspec": {
   "display_name": ".venv",
   "language": "python",
   "name": "python3"
  },
  "language_info": {
   "codemirror_mode": {
    "name": "ipython",
    "version": 3
   },
   "file_extension": ".py",
   "mimetype": "text/x-python",
   "name": "python",
   "nbconvert_exporter": "python",
   "pygments_lexer": "ipython3",
   "version": "3.11.9"
  }
 },
 "nbformat": 4,
 "nbformat_minor": 2
}
