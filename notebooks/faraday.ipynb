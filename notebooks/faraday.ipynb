{
 "cells": [
  {
   "cell_type": "code",
   "execution_count": 7,
   "metadata": {},
   "outputs": [],
   "source": [
    "import numpy as np\n",
    "import matplotlib.pyplot as plt\n",
    "import scienceplots\n",
    "import astropy.units as u\n",
    "import sys \n",
    "import os\n",
    "sys.path.append(\"../src\")\n",
    "from regression import FrequentistRegression\n",
    "# from scipy.optimize import curve_fit\n",
    "params = {\n",
    "         'axes.labelsize': 25,\n",
    "         'axes.titlesize': 25,\n",
    "         'ytick.labelsize' :25,\n",
    "         'xtick.labelsize' :25,\n",
    "         'legend.fontsize': 20,\n",
    "         'xtick.major.size': 5,\n",
    "         'xtick.minor.size': 4,\n",
    "         'xtick.major.width': 3,\n",
    "         'xtick.minor.width': 2,\n",
    "         'ytick.major.size': 5,\n",
    "         'ytick.minor.size': 4,\n",
    "         'ytick.major.width': 3,\n",
    "         'ytick.minor.width': 2,\n",
    "         'ytick.color': \"k\",\n",
    "         'xtick.color': \"k\",\n",
    "         'axes.labelcolor': \"k\",\n",
    "         'ytick.labelcolor' : \"k\",\n",
    "         'xtick.labelcolor' : \"k\",\n",
    "         'font.size': 20\n",
    "         }\n",
    "plt.rcParams.update(params)\n",
    "plt.style.use('science')\n",
    "\n",
    "# Folder directory for the data and figures of this notebook\n",
    "data_folder = r'C:/Users/noedi/Desktop/lab_optique/data/faraday/data/' # à changer selon la personne \n",
    "figure_folder = r'C:/Users/noedi/Desktop/lab_optique/data/faraday/figures/' # à changer selon la personne "
   ]
  },
  {
   "cell_type": "markdown",
   "metadata": {},
   "source": [
    "### Semaine 1\n",
    "On explore 2 parties principales cette semaine: \n",
    "- 1) Caractérisation du champ magnétique à l'intérieur de la bobine\n",
    "- 2) Mesure de la constante de Verdet en courant continu avec 3 méthodes différentes\n",
    "\n",
    "#### Caractérisation du champ magnétique à l'intérieur de la bobine\n",
    "On a deux sous-parties par cette section.\n",
    "1) Caractérisation de la variation spatiale du champ magnétique dans la bobine (comment le champ varie si on se déplace à l'intérieur de la bobine)\n",
    "2) Caractérisation de la variation avec le courant du champ magnétique dans la bobine"
   ]
  },
  {
   "cell_type": "code",
   "execution_count": 18,
   "metadata": {},
   "outputs": [],
   "source": [
    "def preprocess_B(raw_B, range = 30): \n",
    "    \"\"\"\n",
    "    Calcul la valeur de B en Gauss étant donné \n",
    "    \"\"\"\n",
    "    return raw_B * 10 * range * u.gauss.to(u.tesla)"
   ]
  },
  {
   "cell_type": "code",
   "execution_count": 44,
   "metadata": {},
   "outputs": [
    {
     "data": {
      "text/plain": [
       "<matplotlib.legend.Legend at 0x1f267760e10>"
      ]
     },
     "execution_count": 44,
     "metadata": {},
     "output_type": "execute_result"
    },
    {
     "data": {
      "image/png": "[encoded data removed]",
      "text/plain": [
       "<Figure size 350x262.5 with 1 Axes>"
      ]
     },
     "metadata": {},
     "output_type": "display_data"
    }
   ],
   "source": [
    "# Importer les données\n",
    "data = np.loadtxt(data_folder + \"d_vs_B.txt\", skiprows=1)\n",
    "D = data[:, 0] # cm \n",
    "B = preprocess_B(data[:, 1], range = 30) # Tesla\n",
    "\n",
    "# Importer les incertitudes\n",
    "std_data = np.loadtxt(data_folder + \"incertitude.txt\", skiprows=1)\n",
    "std_B = preprocess_B(std_data[:, 1], range = 30).std(ddof = 1)# Tesla\n",
    "std_Ib = preprocess_B(std_data[:, 0], range = 30).std(ddof = 1) # icnertitude courant bobine (A)\n",
    "std_D = 0.5 # cm\n",
    "\n",
    "plt.errorbar(D, B, xerr = 0.5, yerr = std_B, fmt = \".\", label = \"Mesures\", markersize = 2)\n",
    "plt.xlabel(r\"$d$[cm]\")\n",
    "plt.ylabel(r\"$B$ [T]\")\n",
    "# plt.xlim([0, 23])\n",
    "plt.ylim([0, B.max() * 1.4])\n",
    "plt.legend(loc = \"upper right\")"
   ]
  },
  {
   "cell_type": "markdown",
   "metadata": {},
   "source": [
    "On note une région où le champ magnétique est presque constant vers le centre de la bobine ! Analysons maintenant comment ceci varie lorsqu'on varie l'intensité du courant à la place de la distance de la sonde dans la bobine. "
   ]
  },
  {
   "cell_type": "code",
   "execution_count": 47,
   "metadata": {},
   "outputs": [
    {
     "data": {
      "text/plain": [
       "<matplotlib.legend.Legend at 0x1f269be8e10>"
      ]
     },
     "execution_count": 47,
     "metadata": {},
     "output_type": "execute_result"
    },
    {
     "data": {
      "image/png": "[encoded data removed]",
      "text/plain": [
       "<Figure size 600x400 with 1 Axes>"
      ]
     },
     "metadata": {},
     "output_type": "display_data"
    }
   ],
   "source": [
    "# Importer les données (d = 9 cm, i.e. au milieu de la bobine)\n",
    "data = np.loadtxt(data_folder + \"Ib_vs_B.txt\", skiprows=1)\n",
    "Ib = data[:, 0] # courant dans la bobine (A) \n",
    "B = preprocess_B(data[:, 1], range = 30) # Tesla\n",
    "\n",
    "# incertitudes déjà importées cellule précédente.\n",
    "\n",
    "\n",
    "fig, ax = plt.subplots(1, 1, figsize = (6, 4))\n",
    "\n",
    "ax.errorbar(Ib, B, \n",
    "            fmt = \".\", \n",
    "            xerr = std_Ib, \n",
    "            yerr = std_B, \n",
    "            color = \"midnightblue\",\n",
    "            label = \"Mesures\")\n",
    "ax.set(xlabel = r\"$I_b$ [A]\", ylabel = r\"$B$ [T]\")\n",
    "ax.tick_params(which = 'major', axis = 'both', length = 7, width = 1.5)\n",
    "ax.tick_params(which = 'minor', axis = 'both', length = 3.5, width = 1.5)\n",
    "ax.legend()"
   ]
  },
  {
   "cell_type": "markdown",
   "metadata": {},
   "source": [
    "On a une relation qui semble linéaire. Faisons un ajustement sur celle-ci afin de pouvoir obtenir le champ magnétique $B$ pour n'importe quel courant $I_b$. Cela revient à trouver les paramètres $\\beta_0$ et $\\beta_1$ pour la relation suivante\n",
    "$$\n",
    "B = \\beta_0 I_b + \\beta_1  \n",
    "$$"
   ]
  },
  {
   "cell_type": "code",
   "execution_count": 58,
   "metadata": {},
   "outputs": [
    {
     "name": "stdout",
     "output_type": "stream",
     "text": [
      "The parameters fitted are [-0.02851079  0.11729722]\n",
      "The std of the params fitted are [0.00059292 0.00033622]\n",
      "The cov of the params fitted is [[ 3.51556996e-07 -1.76998364e-07]\n",
      " [-1.76998364e-07  1.13046581e-07]]\n",
      "The chi squared is: 2.5382542559591355\n"
     ]
    }
   ],
   "source": [
    "def linear(x, params_fitted):\n",
    "    a, b = params_fitted\n",
    "    return a + b * x\n",
    "\n",
    "x = Ib\n",
    "y = B\n",
    "sigma_y = std_B\n",
    "\n",
    "Regression_bobine= FrequentistRegression(\n",
    "    degree = 1,\n",
    "    sigma_noise = 2 * sigma_y\n",
    ")\n",
    "\n",
    "params_fitted, std_fitted = Regression_bobine.fit(\n",
    "    obs = y, \n",
    "    x = x,\n",
    "    ridge_reg = 1e-12,\n",
    "    fit_intercept = True\n",
    ")\n",
    "\n",
    "y_pred = Regression_bobine.forward_model()\n",
    "cov = Regression_bobine.cov\n",
    "chi2 = Regression_bobine.compute_chi2(obs = y)\n",
    "\n",
    "print(\"The parameters fitted are\", params_fitted)\n",
    "print(\"The std of the params fitted are\", std_fitted)\n",
    "print(\"The cov of the params fitted is\", cov)\n",
    "print(\"The chi squared is:\", chi2)\n"
   ]
  },
  {
   "cell_type": "code",
   "execution_count": 70,
   "metadata": {},
   "outputs": [
    {
     "data": {
      "text/plain": [
       "<matplotlib.legend.Legend at 0x1f26b896510>"
      ]
     },
     "execution_count": 70,
     "metadata": {},
     "output_type": "execute_result"
    },
    {
     "data": {
      "image/png": "[encoded data removed]",
      "text/plain": [
       "<Figure size 600x400 with 1 Axes>"
      ]
     },
     "metadata": {},
     "output_type": "display_data"
    }
   ],
   "source": [
    "fig, ax = plt.subplots(1, 1, figsize = (6, 4))\n",
    "\n",
    "I_fit = np.linspace(0.9 * Ib.min(), 1.01 * Ib.max(), 500)\n",
    "y_pred_fit = linear(I_fit, params_fitted=params_fitted)\n",
    "ax.errorbar(Ib, B, \n",
    "            fmt = \".\", \n",
    "            xerr = std_Ib, \n",
    "            yerr = std_B, \n",
    "            color = \"midnightblue\",\n",
    "            label = \"Mesures\")\n",
    "ax.plot(I_fit, y_pred_fit, label = \"Régression\", color = \"mediumseagreen\")\n",
    "\n",
    "# k = 1\n",
    "k = 1 \n",
    "ax.fill_between(\n",
    "    I_fit, \n",
    "    y_pred_fit - k * std_B,\n",
    "    y_pred_fit + k * std_B,\n",
    "    label = \"Incertitudes\", \n",
    "    color = \"mediumseagreen\", \n",
    "    alpha = 0.5\n",
    ")\n",
    "\n",
    "k = 3\n",
    "ax.fill_between(\n",
    "    I_fit, \n",
    "    y_pred_fit - k * std_B,\n",
    "    y_pred_fit + k * std_B,\n",
    "    color = \"mediumseagreen\", \n",
    "    alpha = 0.3\n",
    ")\n",
    "ax.set(xlabel = r\"$I_b$ [A]\", ylabel = r\"$B$ [T]\")\n",
    "handles, labels = plt.gca().get_legend_handles_labels()\n",
    "order = [2,0,1]\n",
    "ax.annotate(r\"$\\chi^2_\\nu=%.2f$\"%chi2, xy = (0.6, 0.3), xycoords = \"axes fraction\", color = \"red\", fontsize = 20)\n",
    "ax.tick_params(which = 'major', axis = 'both', length = 7, width = 1.5)\n",
    "ax.tick_params(which = 'minor', axis = 'both', length = 3.5, width = 1.5)\n",
    "ax.legend(loc = \"upper left\", handles = [handles[idx] for idx in order], labels = [labels[idx] for idx in order])"
   ]
  },
  {
   "cell_type": "markdown",
   "metadata": {},
   "source": [
    "Parfait. Créons une fonction pour aller de $I_b$ (A) à $B$ (Tesla)"
   ]
  },
  {
   "cell_type": "code",
   "execution_count": 73,
   "metadata": {},
   "outputs": [],
   "source": [
    "def Ib_to_B(x, params_reg = params_fitted): \n",
    "    \"\"\"\n",
    "    Ib (amperes) à B (Tesla)\n",
    "    \"\"\"\n",
    "    a, b = params_reg\n",
    "    return a + b * x"
   ]
  },
  {
   "cell_type": "markdown",
   "metadata": {},
   "source": [
    "#### Mesure de la constante de Verdet\n",
    "\n",
    "##### Méthode 1: Par extension (ajustement de l'angle des deux polariseurs)"
   ]
  },
  {
   "cell_type": "code",
   "execution_count": null,
   "metadata": {},
   "outputs": [],
   "source": [
    "# Importer les données (d = 9 cm, i.e. au milieu de la bobine)\n",
    "data = np.loadtxt(data_folder + \"Ib_vs_B.txt\", skiprows=1)\n",
    "Ib = data[:, 0] # courant dans la bobine (A) \n",
    "B = preprocess_B(data[:, 1], range = 30) # Tesla\n",
    "\n"
   ]
  },
  {
   "cell_type": "code",
   "execution_count": null,
   "metadata": {},
   "outputs": [],
   "source": []
  },
  {
   "cell_type": "code",
   "execution_count": null,
   "metadata": {},
   "outputs": [],
   "source": []
  },
  {
   "cell_type": "code",
   "execution_count": null,
   "metadata": {},
   "outputs": [],
   "source": []
  },
  {
   "cell_type": "code",
   "execution_count": null,
   "metadata": {},
   "outputs": [],
   "source": []
  }
 ],
 "metadata": {
  "kernelspec": {
   "display_name": ".venv",
   "language": "python",
   "name": "python3"
  },
  "language_info": {
   "codemirror_mode": {
    "name": "ipython",
    "version": 3
   },
   "file_extension": ".py",
   "mimetype": "text/x-python",
   "name": "python",
   "nbconvert_exporter": "python",
   "pygments_lexer": "ipython3",
   "version": "3.11.9"
  }
 },
 "nbformat": 4,
 "nbformat_minor": 2
}
