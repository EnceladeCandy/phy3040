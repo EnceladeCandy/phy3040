{
 "cells": [
  {
   "cell_type": "code",
   "execution_count": 2,
   "metadata": {},
   "outputs": [],
   "source": [
    "import numpy as np\n",
    "import matplotlib.pyplot as plt\n",
    "import scienceplots\n",
    "import astropy.units as u\n",
    "params = {\n",
    "         'axes.labelsize': 20,\n",
    "         'axes.titlesize': 20,\n",
    "         'ytick.labelsize' :20,\n",
    "         'xtick.labelsize' :20,\n",
    "         'legend.fontsize': 15,\n",
    "         'xtick.major.size': 8,\n",
    "         'xtick.minor.size': 4,\n",
    "         'xtick.major.width': 3,\n",
    "         'xtick.minor.width': 2,\n",
    "         'ytick.color': \"k\",\n",
    "         'xtick.color': \"k\",\n",
    "         'axes.labelcolor': \"k\",\n",
    "         'ytick.labelcolor' : \"k\",\n",
    "         'xtick.labelcolor' : \"k\",\n",
    "         }\n",
    "plt.rcParams.update(params)\n",
    "plt.style.use('science')"
   ]
  },
  {
   "cell_type": "code",
   "execution_count": null,
   "metadata": {},
   "outputs": [],
   "source": []
  },
  {
   "cell_type": "markdown",
   "metadata": {},
   "source": [
    "## Frequentist vs Bayesian linear regression\n",
    "In many fields, we are interested in estimating parameters of interest given some observables (i.e. the measured data). For us, physicists, the parameters of interest are physical quantities informing us about the laws of nature. Often, these laws follow linear trends according to some physical parameters and we're interested in doing linear regression, i.e. given some noisy observed data and a physical model, determining the underlying physical parameters and see if they are agreeing with the physical model. This linear regression can be done in two manners, the frequentist way or the Bayesian way. \n",
    "\n",
    "In this notebook, I'll explore two types of linear regression characterized by different visions of statistics. I won't delve really deep in what is implied for each one of this view but to put it simply: \n",
    "- __Frequentist view__: probabilities are viewed as the frequency at which an event repeats itself in an experiment\n",
    "- __Bayesian view__:  probabilites are viewed as a degree of belief/confidence.\n",
    "\n",
    "In the parameter estimation ocurring during linear regression, frequentists assume a confidence interval (for example 95%) around a **fixed parameter of interest** and use statistical tests to do hypothesis testing (i.e. check if the observed data is consistent with a null hypothesis). The problem is that there's no clear way on how to define this confidence interval and you might be sometimes in situations where, even though the null hypothesis is correct, you reject it due to a poor choice of confidence interval.  \n",
    "\n",
    "The Bayesian view is more elegant (in my opinion). Instead of assuming a fixed parameter of interest, the **parameter of interest becomes a random variable** following a **posterior distribution**. I'll go into more details when the time comes but this approach is powerful since it allows you to bypass the problems ocurring when you need to choose p-values or confidence intervals. Instead, the information loss due to noise is naturally included in the framework and more complex cases (like multimodality for example) can be encoded. \n",
    "\n",
    "Enough babbling about frequentist vs Bayesian. Let's get started with linear regression. Linear regression is the problem of finding the optimal regression coefficients $\\beta$ given observed data $\\mathbf{y}$ such that\n",
    "$$\n",
    "\\mathbf{y}^\\star = \\beta \\mathbf{x} \\qquad \\mathbf{y} = \\beta \\mathbf{x} + \\boldsymbol{\\epsilon}\n",
    "$$\n",
    "where $\\boldsymbol{\\epsilon} \\sim  \\mathcal{N}(0, \\Sigma)$ is noise (estimated during the experiment in our case).\n",
    "\n",
    "\n",
    "### A simple toy problem\n",
    "Let's imagine we're back in year 1 and doing our first class of Classical Mechanics. One of the first derivation that we can make is simply the linear relationship between position $x(t)$ and at constant speed $v(t)=v_0$ when there is no acceleration (no force on the system). This means we can write\n",
    "$$\n",
    "x(t) = x_{0} + \\int_{0}^{t} \\frac{dx}{dt'} dt'\\rightarrow x(t)= x_{0} + v_0 t\n",
    "$$\n",
    "\n",
    "Great. Now, let's assume that we have a bowling ball that we launch at speed $v_{0}$ from a point $x_0$ and that we ignore any kind of friction, and that the bowling ball rolls without slipping. We can use our favorite tool to measure the speed of the ball, let's say a speedometer 3000 and get measurements of the ball with uncorrelated Gaussian errors. The observed data will follow the trend \n",
    "$$\n",
    "\\begin{align}\n",
    "y_t &= x_{0} + v_{0}t + \\epsilon\n",
    "\\end{align}\n",
    "$$\n",
    "\n",
    "Let's simulate these measurements below. I'll use astropy.units to show some cool things that we can do to not have problems with units :)."
   ]
  },
  {
   "cell_type": "code",
   "execution_count": 8,
   "metadata": {},
   "outputs": [
    {
     "name": "stdout",
     "output_type": "stream",
     "text": [
      "Initial position:  10.0 m\n",
      "Initial speed:  20.0 m / s\n"
     ]
    }
   ],
   "source": [
    "# Defining initial parameters\n",
    "x0 = 10 * u.meter\n",
    "v0 = 20 * u.meter / u.s\n",
    "\n",
    "print(\"Initial position: \", x0)\n",
    "print(\"Initial speed: \", v0)"
   ]
  },
  {
   "cell_type": "markdown",
   "metadata": {},
   "source": [
    "Now, we want to plot the measurements $y= x_0 + v_0 t + \\epsilon$"
   ]
  },
  {
   "cell_type": "code",
   "execution_count": 14,
   "metadata": {},
   "outputs": [],
   "source": [
    "def forward_model(t, x0 = 10, v0 = 20): \n",
    "    return x0 + v0 * t"
   ]
  },
  {
   "cell_type": "code",
   "execution_count": 21,
   "metadata": {},
   "outputs": [
    {
     "data": {
      "text/plain": [
       "<matplotlib.legend.Legend at 0x20df47c2550>"
      ]
     },
     "execution_count": 21,
     "metadata": {},
     "output_type": "execute_result"
    },
    {
     "data": {
      "image/png": "[encoded data removed]",
      "text/plain": [
       "<Figure size 600x400 with 1 Axes>"
      ]
     },
     "metadata": {},
     "output_type": "display_data"
    }
   ],
   "source": [
    "num_points = 500 # Number of measured data points\n",
    "t = np.linspace(0, 1, num_points) * u.second\n",
    "sigma = 2 # standard deviation (in meters) \n",
    "epsilon = np.random.normal(loc = 0, scale = sigma, size = (num_points,)) * u.meter\n",
    "y = forward_model(t = t, x0 = x0, v0 = v0) + epsilon\n",
    "\n",
    "fig, axs = plt.subplots(1, 1, figsize = (6, 4))\n",
    "ax = axs\n",
    "ax.plot(t, y, \".\", markersize = 1, label = \"Noisy data\", color = \"k\")\n",
    "ax.plot(t, forward_model(t, x0, v0), label = \"True signal\", color = \"r\")\n",
    "ax.set(xlabel = r\"$t$ [s]\", ylabel = r\"$x$ [m]\")\n",
    "plt.legend()"
   ]
  },
  {
   "cell_type": "markdown",
   "metadata": {},
   "source": [
    "Great, we have our noisy data and we now want to do our linear regression. Let's start with the frequentist linear regression\n",
    "\n",
    "## Frequentist linear regression\n",
    "In the frequentist linear regression, we can rewrite the measurement equation in matrix form: \n",
    "$$\n",
    "\\begin{align}\n",
    "\\\\\n",
    "y_t &= \\beta_{0} + \\beta_{1}t + \\epsilon\n",
    "\\\\\n",
    "\\mathbf{y} &= \\begin{pmatrix}\n",
    "\\beta_0 + \\beta_1 t_1 \\\\\n",
    "\\beta_0 + \\beta_1 t_2 \\\\\n",
    "\\vdots \\\\\n",
    "\\beta_0 + \\beta_1 t_m \\\\\n",
    "\\end{pmatrix}\n",
    "\\\\\n",
    " &= \\begin{pmatrix}\n",
    "1 & t_1 \\\\\n",
    "1 & t_2 \\\\\n",
    "\\vdots & \\vdots \\\\\n",
    "1 & t_m \n",
    "\\end{pmatrix}\n",
    "\\begin{pmatrix}\n",
    "\\beta_{0} \\\\ \\beta_{1} \n",
    "\\end{pmatrix}\n",
    "\\end{align}\n",
    "\\\\\n",
    "= \\mathbf{t} \\beta + \\boldsymbol{\\epsilon}\n",
    "$$\n",
    "where $\\mathbf{y} \\in \\mathbb{R}^{m}$ represents our collection of measurements, $m$ is the total number of measurements, $\\mathbf{t}$ is our input variable (assumed to be perfectly known in a simple frequentist linear regression setting).   \n",
    "\n",
    "In the frequentist linear regression, the optimal regression coefficients $\\beta^\\star$ are obtained by applying the formula (where here we map $\\mathbf{t}\\rightarrow \\mathbf{x}$)\n",
    "$$\n",
    "\\beta^{\\star}=(\\mathbf{x}^{T} \\mathbf{x}+ \\lambda)^{-1}\\mathbf{x}^{T} \\mathbf{y}\n",
    "$$\n",
    "We can also compute the covariance matrix on the optimal parameters $\\beta^\\star$ when the noise is Gaussian. We have \n",
    "$$\n",
    "\\text{Cov}(\\beta^\\star)=\\sigma^2(\\mathbf{x}^{T}\\mathbf{x}+ \\lambda)^{-1}\n",
    "$$\n",
    "where $\\lambda$ is a Ridge regularization to make sure that the matrix is invertible. \n",
    "\n",
    "Let's set $\\lambda=10^{-5}$ to start. \n"
   ]
  },
  {
   "cell_type": "code",
   "execution_count": 112,
   "metadata": {},
   "outputs": [
    {
     "name": "stdout",
     "output_type": "stream",
     "text": [
      "Ground-truth 10.0 20.0\n",
      "Optimal regression parameters [10.14729864 19.64805825]\n",
      "Standard deviation  [0.17861744 0.30921961] m / s\n"
     ]
    }
   ],
   "source": [
    "# Computing optimal regression coefficients\n",
    "X = np.column_stack([np.ones_like(t), t])\n",
    "A = X.T @ X\n",
    "ridge_reg = 0 * X.unit ** 2\n",
    "inv_mat = np.linalg.inv(A + ridge_reg)\n",
    "beta_star = (inv_mat @ X.T @ y).value\n",
    "\n",
    "# Computing covariance \n",
    "cov = (sigma * u.meter) ** 2 * inv_mat\n",
    "stds = np.sqrt(np.diag(cov))\n",
    "\n",
    "beta_gt = np.array([x0.value.item(), v0.value.item()])\n",
    "print(\"Ground-truth\", *beta_gt)\n",
    "print(\"Optimal regression parameters\", beta_star)\n",
    "print(\"Standard deviation \", stds.to_string())"
   ]
  },
  {
   "cell_type": "code",
   "execution_count": 108,
   "metadata": {},
   "outputs": [
    {
     "data": {
      "text/plain": [
       "np.float64(10.0)"
      ]
     },
     "execution_count": 108,
     "metadata": {},
     "output_type": "execute_result"
    }
   ],
   "source": [
    "x0.value"
   ]
  },
  {
   "cell_type": "code",
   "execution_count": 103,
   "metadata": {},
   "outputs": [
    {
     "data": {
      "text/latex": [
       "$10 \\; \\mathrm{m}$"
      ],
      "text/plain": [
       "<Quantity 10. m>"
      ]
     },
     "execution_count": 103,
     "metadata": {},
     "output_type": "execute_result"
    }
   ],
   "source": [
    "x0"
   ]
  },
  {
   "cell_type": "markdown",
   "metadata": {},
   "source": [
    "That's pretty good ! Our uncertainties are good and are really constraining what's going on here. Let's plot the fitted model vs the ground-truth model. "
   ]
  },
  {
   "cell_type": "code",
   "execution_count": 113,
   "metadata": {},
   "outputs": [
    {
     "ename": "UnitConversionError",
     "evalue": "Can only apply 'add' function to dimensionless quantities when other argument is not a quantity (unless the latter is all zero/infinity/nan).",
     "output_type": "error",
     "traceback": [
      "\u001b[1;31m---------------------------------------------------------------------------\u001b[0m",
      "\u001b[1;31mUnitConversionError\u001b[0m                       Traceback (most recent call last)",
      "Cell \u001b[1;32mIn[113], line 4\u001b[0m\n\u001b[0;32m      2\u001b[0m ax \u001b[38;5;241m=\u001b[39m axs\n\u001b[0;32m      3\u001b[0m ax\u001b[38;5;241m.\u001b[39mplot(t, y, \u001b[38;5;124m\"\u001b[39m\u001b[38;5;124m.\u001b[39m\u001b[38;5;124m\"\u001b[39m, markersize \u001b[38;5;241m=\u001b[39m \u001b[38;5;241m1\u001b[39m, label \u001b[38;5;241m=\u001b[39m \u001b[38;5;124m\"\u001b[39m\u001b[38;5;124mNoisy data\u001b[39m\u001b[38;5;124m\"\u001b[39m, color \u001b[38;5;241m=\u001b[39m \u001b[38;5;124m\"\u001b[39m\u001b[38;5;124mk\u001b[39m\u001b[38;5;124m\"\u001b[39m)\n\u001b[1;32m----> 4\u001b[0m ax\u001b[38;5;241m.\u001b[39mplot(t, \u001b[43mforward_model\u001b[49m\u001b[43m(\u001b[49m\u001b[43mt\u001b[49m\u001b[43m,\u001b[49m\u001b[43m \u001b[49m\u001b[38;5;241;43m*\u001b[39;49m\u001b[43mbeta_gt\u001b[49m\u001b[43m)\u001b[49m, label \u001b[38;5;241m=\u001b[39m \u001b[38;5;124m\"\u001b[39m\u001b[38;5;124mTrue signal\u001b[39m\u001b[38;5;124m\"\u001b[39m, color \u001b[38;5;241m=\u001b[39m \u001b[38;5;124m\"\u001b[39m\u001b[38;5;124mr\u001b[39m\u001b[38;5;124m\"\u001b[39m)\n\u001b[0;32m      5\u001b[0m ax\u001b[38;5;241m.\u001b[39mplot(t, forward_model(t, \u001b[38;5;241m*\u001b[39mbeta_star), label \u001b[38;5;241m=\u001b[39m \u001b[38;5;124m\"\u001b[39m\u001b[38;5;124mFitted signal\u001b[39m\u001b[38;5;124m\"\u001b[39m, color \u001b[38;5;241m=\u001b[39m \u001b[38;5;124m\"\u001b[39m\u001b[38;5;124mg\u001b[39m\u001b[38;5;124m\"\u001b[39m)\n\u001b[0;32m      6\u001b[0m ax\u001b[38;5;241m.\u001b[39mset(xlabel \u001b[38;5;241m=\u001b[39m \u001b[38;5;124mr\u001b[39m\u001b[38;5;124m\"\u001b[39m\u001b[38;5;124m$t$ [s]\u001b[39m\u001b[38;5;124m\"\u001b[39m, ylabel \u001b[38;5;241m=\u001b[39m \u001b[38;5;124mr\u001b[39m\u001b[38;5;124m\"\u001b[39m\u001b[38;5;124m$x$ [m]\u001b[39m\u001b[38;5;124m\"\u001b[39m)\n",
      "Cell \u001b[1;32mIn[14], line 2\u001b[0m, in \u001b[0;36mforward_model\u001b[1;34m(t, x0, v0)\u001b[0m\n\u001b[0;32m      1\u001b[0m \u001b[38;5;28;01mdef\u001b[39;00m \u001b[38;5;21mforward_model\u001b[39m(t, x0 \u001b[38;5;241m=\u001b[39m \u001b[38;5;241m10\u001b[39m, v0 \u001b[38;5;241m=\u001b[39m \u001b[38;5;241m20\u001b[39m): \n\u001b[1;32m----> 2\u001b[0m     \u001b[38;5;28;01mreturn\u001b[39;00m \u001b[43mx0\u001b[49m\u001b[43m \u001b[49m\u001b[38;5;241;43m+\u001b[39;49m\u001b[43m \u001b[49m\u001b[43mv0\u001b[49m\u001b[43m \u001b[49m\u001b[38;5;241;43m*\u001b[39;49m\u001b[43m \u001b[49m\u001b[43mt\u001b[49m\n",
      "File \u001b[1;32mc:\\Users\\Admin\\Desktop\\lab_optique\\.venv\\Lib\\site-packages\\astropy\\units\\quantity.py:696\u001b[0m, in \u001b[0;36mQuantity.__array_ufunc__\u001b[1;34m(self, function, method, *inputs, **kwargs)\u001b[0m\n\u001b[0;32m    694\u001b[0m     \u001b[38;5;28;01mreturn\u001b[39;00m \u001b[38;5;28mNotImplemented\u001b[39m\n\u001b[0;32m    695\u001b[0m \u001b[38;5;28;01melse\u001b[39;00m:\n\u001b[1;32m--> 696\u001b[0m     \u001b[38;5;28;01mraise\u001b[39;00m e\n",
      "File \u001b[1;32mc:\\Users\\Admin\\Desktop\\lab_optique\\.venv\\Lib\\site-packages\\astropy\\units\\quantity.py:641\u001b[0m, in \u001b[0;36mQuantity.__array_ufunc__\u001b[1;34m(self, function, method, *inputs, **kwargs)\u001b[0m\n\u001b[0;32m    636\u001b[0m \u001b[38;5;66;03m# Determine required conversion functions -- to bring the unit of the\u001b[39;00m\n\u001b[0;32m    637\u001b[0m \u001b[38;5;66;03m# input to that expected (e.g., radian for np.sin), or to get\u001b[39;00m\n\u001b[0;32m    638\u001b[0m \u001b[38;5;66;03m# consistent units between two inputs (e.g., in np.add) --\u001b[39;00m\n\u001b[0;32m    639\u001b[0m \u001b[38;5;66;03m# and the unit of the result (or tuple of units for nout > 1).\u001b[39;00m\n\u001b[0;32m    640\u001b[0m \u001b[38;5;28;01mtry\u001b[39;00m:\n\u001b[1;32m--> 641\u001b[0m     converters, unit \u001b[38;5;241m=\u001b[39m \u001b[43mconverters_and_unit\u001b[49m\u001b[43m(\u001b[49m\u001b[43mfunction\u001b[49m\u001b[43m,\u001b[49m\u001b[43m \u001b[49m\u001b[43mmethod\u001b[49m\u001b[43m,\u001b[49m\u001b[43m \u001b[49m\u001b[38;5;241;43m*\u001b[39;49m\u001b[43minputs\u001b[49m\u001b[43m)\u001b[49m\n\u001b[0;32m    643\u001b[0m     out \u001b[38;5;241m=\u001b[39m kwargs\u001b[38;5;241m.\u001b[39mget(\u001b[38;5;124m\"\u001b[39m\u001b[38;5;124mout\u001b[39m\u001b[38;5;124m\"\u001b[39m, \u001b[38;5;28;01mNone\u001b[39;00m)\n\u001b[0;32m    644\u001b[0m     \u001b[38;5;66;03m# Avoid loop back by turning any Quantity output into array views.\u001b[39;00m\n",
      "File \u001b[1;32mc:\\Users\\Admin\\Desktop\\lab_optique\\.venv\\Lib\\site-packages\\astropy\\units\\quantity_helper\\converters.py:199\u001b[0m, in \u001b[0;36mconverters_and_unit\u001b[1;34m(function, method, *args)\u001b[0m\n\u001b[0;32m    197\u001b[0m             converters[i] \u001b[38;5;241m=\u001b[39m \u001b[38;5;28;01mNone\u001b[39;00m\n\u001b[0;32m    198\u001b[0m         \u001b[38;5;28;01melse\u001b[39;00m:\n\u001b[1;32m--> 199\u001b[0m             \u001b[38;5;28;01mraise\u001b[39;00m UnitConversionError(\n\u001b[0;32m    200\u001b[0m                 \u001b[38;5;124mf\u001b[39m\u001b[38;5;124m\"\u001b[39m\u001b[38;5;124mCan only apply \u001b[39m\u001b[38;5;124m'\u001b[39m\u001b[38;5;132;01m{\u001b[39;00mfunction\u001b[38;5;241m.\u001b[39m\u001b[38;5;18m__name__\u001b[39m\u001b[38;5;132;01m}\u001b[39;00m\u001b[38;5;124m'\u001b[39m\u001b[38;5;124m function to \u001b[39m\u001b[38;5;124m\"\u001b[39m\n\u001b[0;32m    201\u001b[0m                 \u001b[38;5;124m\"\u001b[39m\u001b[38;5;124mdimensionless quantities when other argument is not \u001b[39m\u001b[38;5;124m\"\u001b[39m\n\u001b[0;32m    202\u001b[0m                 \u001b[38;5;124m\"\u001b[39m\u001b[38;5;124ma quantity (unless the latter is all zero/infinity/nan).\u001b[39m\u001b[38;5;124m\"\u001b[39m\n\u001b[0;32m    203\u001b[0m             )\n\u001b[0;32m    204\u001b[0m \u001b[38;5;28;01mexcept\u001b[39;00m \u001b[38;5;167;01mTypeError\u001b[39;00m:\n\u001b[0;32m    205\u001b[0m     \u001b[38;5;66;03m# _can_have_arbitrary_unit failed: arg could not be compared\u001b[39;00m\n\u001b[0;32m    206\u001b[0m     \u001b[38;5;66;03m# with zero or checked to be finite. Then, ufunc will fail too.\u001b[39;00m\n\u001b[0;32m    207\u001b[0m     \u001b[38;5;28;01mraise\u001b[39;00m \u001b[38;5;167;01mTypeError\u001b[39;00m(\n\u001b[0;32m    208\u001b[0m         \u001b[38;5;124m\"\u001b[39m\u001b[38;5;124mUnsupported operand type(s) for ufunc \u001b[39m\u001b[38;5;132;01m{}\u001b[39;00m\u001b[38;5;124m: \u001b[39m\u001b[38;5;124m'\u001b[39m\u001b[38;5;132;01m{}\u001b[39;00m\u001b[38;5;124m'\u001b[39m\u001b[38;5;124m\"\u001b[39m\u001b[38;5;241m.\u001b[39mformat(\n\u001b[0;32m    209\u001b[0m             function\u001b[38;5;241m.\u001b[39m\u001b[38;5;18m__name__\u001b[39m,\n\u001b[0;32m    210\u001b[0m             \u001b[38;5;124m\"\u001b[39m\u001b[38;5;124m,\u001b[39m\u001b[38;5;124m\"\u001b[39m\u001b[38;5;241m.\u001b[39mjoin([arg\u001b[38;5;241m.\u001b[39m\u001b[38;5;18m__class__\u001b[39m\u001b[38;5;241m.\u001b[39m\u001b[38;5;18m__name__\u001b[39m \u001b[38;5;28;01mfor\u001b[39;00m arg \u001b[38;5;129;01min\u001b[39;00m args]),\n\u001b[0;32m    211\u001b[0m         )\n\u001b[0;32m    212\u001b[0m     )\n",
      "\u001b[1;31mUnitConversionError\u001b[0m: Can only apply 'add' function to dimensionless quantities when other argument is not a quantity (unless the latter is all zero/infinity/nan)."
     ]
    },
    {
     "data": {
      "image/png": "[encoded data removed]",
      "text/plain": [
       "<Figure size 600x400 with 1 Axes>"
      ]
     },
     "metadata": {},
     "output_type": "display_data"
    }
   ],
   "source": [
    "fig, axs = plt.subplots(1, 1, figsize = (6, 4))\n",
    "ax = axs\n",
    "ax.plot(t, y, \".\", markersize = 1, label = \"Noisy data\", color = \"k\")\n",
    "ax.plot(t, forward_model(t, *beta_gt), label = \"True signal\", color = \"r\")\n",
    "ax.plot(t, forward_model(t, *beta_star), label = \"Fitted signal\", color = \"g\")\n",
    "ax.set(xlabel = r\"$t$ [s]\", ylabel = r\"$x$ [m]\")\n",
    "plt.legend()"
   ]
  },
  {
   "cell_type": "code",
   "execution_count": 96,
   "metadata": {},
   "outputs": [
    {
     "data": {
      "text/latex": [
       "$[0.17861744,~0.30921961] \\; \\mathrm{\\frac{m}{s}}$"
      ],
      "text/plain": [
       "<Quantity [0.17861744, 0.30921961] m / s>"
      ]
     },
     "execution_count": 96,
     "metadata": {},
     "output_type": "execute_result"
    }
   ],
   "source": [
    "np.sqrt(np.diag(cov))"
   ]
  },
  {
   "cell_type": "code",
   "execution_count": 97,
   "metadata": {},
   "outputs": [
    {
     "data": {
      "text/latex": [
       "$[[0.031904192,~-0.047808383],~\n",
       " [-0.047808383,~0.095616766]] \\; \\mathrm{\\frac{m^{2}}{s^{2}}}$"
      ],
      "text/plain": [
       "<Quantity [[ 0.03190419, -0.04780838],\n",
       "           [-0.04780838,  0.09561677]] m2 / s2>"
      ]
     },
     "execution_count": 97,
     "metadata": {},
     "output_type": "execute_result"
    }
   ],
   "source": [
    "cov"
   ]
  },
  {
   "cell_type": "code",
   "execution_count": 94,
   "metadata": {},
   "outputs": [
    {
     "data": {
      "text/latex": [
       "$[[500,~250],~\n",
       " [250,~166.83367]] \\; \\mathrm{s^{2}}$"
      ],
      "text/plain": [
       "<Quantity [[500.        , 250.        ],\n",
       "           [250.        , 166.83366733]] s2>"
      ]
     },
     "execution_count": 94,
     "metadata": {},
     "output_type": "execute_result"
    }
   ],
   "source": [
    "A"
   ]
  },
  {
   "cell_type": "code",
   "execution_count": null,
   "metadata": {},
   "outputs": [],
   "source": [
    "sigam"
   ]
  },
  {
   "cell_type": "code",
   "execution_count": 73,
   "metadata": {},
   "outputs": [
    {
     "data": {
      "text/latex": [
       "$[[500,~250],~\n",
       " [250,~166.83367]] \\; \\mathrm{s^{2}}$"
      ],
      "text/plain": [
       "<Quantity [[500.        , 250.        ],\n",
       "           [250.        , 166.83366733]] s2>"
      ]
     },
     "execution_count": 73,
     "metadata": {},
     "output_type": "execute_result"
    }
   ],
   "source": [
    "A"
   ]
  },
  {
   "cell_type": "code",
   "execution_count": 37,
   "metadata": {},
   "outputs": [
    {
     "data": {
      "text/plain": [
       "(500, 2)"
      ]
     },
     "execution_count": 37,
     "metadata": {},
     "output_type": "execute_result"
    }
   ],
   "source": [
    "X.shape"
   ]
  },
  {
   "cell_type": "code",
   "execution_count": null,
   "metadata": {},
   "outputs": [],
   "source": []
  }
 ],
 "metadata": {
  "kernelspec": {
   "display_name": ".venv",
   "language": "python",
   "name": "python3"
  },
  "language_info": {
   "codemirror_mode": {
    "name": "ipython",
    "version": 3
   },
   "file_extension": ".py",
   "mimetype": "text/x-python",
   "name": "python",
   "nbconvert_exporter": "python",
   "pygments_lexer": "ipython3",
   "version": "3.11.9"
  }
 },
 "nbformat": 4,
 "nbformat_minor": 2
}
